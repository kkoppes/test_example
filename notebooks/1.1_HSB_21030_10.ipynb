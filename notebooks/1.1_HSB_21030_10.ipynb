{
 "cells": [
  {
   "cell_type": "markdown",
   "metadata": {},
   "source": [
    "# HSB 21030-10: Internal load distribution of fastener group \n",
    "HSB\n",
    "Issue D Year 1989\n",
    "\n",
    "Groth Schneider 13.12.1989 MBB-UF\n"
   ]
  },
  {
   "cell_type": "code",
   "execution_count": 1,
   "metadata": {
    "tags": [
     "\"nbsphinx\": \"hidden\""
    ]
   },
   "outputs": [],
   "source": [
    "import sys\n",
    "\n",
    "sys.path.append(\"..\")\n",
    "\n",
    "#import markdown\n",
    "# show latex from string\n",
    "from IPython.display import display, Markdown\n",
    "\n",
    "from pylantir.taters import get_markdown_from_docs\n",
    "\n",
    "from pylantir.pyelbe.hsb.hsb_formulas import (\n",
    "    moment_x_reference,\n",
    "    moment_y_reference,\n",
    "    moment_z_reference,\n",
    "    moment_x_reference_markdown,\n",
    "    moment_y_reference_markdown,\n",
    "    moment_z_reference_markdown,\n",
    ")\n"
   ]
  },
  {
   "cell_type": "markdown",
   "metadata": {},
   "source": [
    "## Summary: \n",
    "This sheet provides a method to calculate the shear and tensile forces in fastener groups.  \n",
    "  \n",
    "  \n",
    "Key Words: Fastener group, shear force, tension force"
   ]
  },
  {
   "cell_type": "markdown",
   "metadata": {},
   "source": [
    "# 1. General\n",
    "This sheet provides a method to calculate the shear and tensile forces for each fastener in riveted or  \n",
    "bolted joints. The method is valid only for components that are sufficiently stiff in the joint area.  \n",
    "For the static strength analyses the centroid of the fastener group is determined taking into account  \n",
    "the allowable forces of the fasteners. For fatigue analyses the stiffnesses of the fasteners should be  \n",
    "taken into account. The configuration considered is as follows (note: support forces are not shown):  \n",
    "\n",
    "<img src=\"../docs/source/_static/HSB_21030_10_fig_1_Overview.PNG\" alt=\"Drawing\" style=\"width: 500px;\"/>"
   ]
  },
  {
   "cell_type": "markdown",
   "metadata": {},
   "source": [
    "# 2. List of Symbols and Indices  \n",
    "\n",
    "Symbol | Unit | Description  \n",
    "---|---|---\n",
    "x/y/z | mm | cartesian coordinates  \n",
    "F | N | force  \n",
    "M | Nmm | moment  \n",
    "RF | - | reserve factor  \n",
    "α | ◦ | angle of principal axes  \n",
    "  \n",
    "  "
   ]
  },
  {
   "cell_type": "markdown",
   "metadata": {},
   "source": [
    "\n",
    "  \n",
    "Index | Description\n",
    "---|---\n",
    "<sub>all<sub> | allowable\n",
    "<sub>i<sub> | index for the fastener i\n",
    "<sub>s/t<sub> | shear / tension\n",
    "<sub>C/P<sub> | contact point / point where external loads are applied\n",
    "<sub>S/T<sub> | centroid for the fastener shear / tensile forces\n",
    "<sub>U<sub> | reference point in the plane of the fastener group\n"
   ]
  },
  {
   "cell_type": "markdown",
   "metadata": {},
   "source": [
    "# 3. Analysis\n",
    "## 3.1. Transformation of loading to the reference point U\n",
    "<img src=\"../docs\\source\\_static\\HSB_21030_10_fig_2_reference__point_U_.PNG\" alt=\"shear forces\" style=\"width: 500px;\"/>"
   ]
  },
  {
   "cell_type": "code",
   "execution_count": 2,
   "metadata": {},
   "outputs": [
    {
     "data": {
      "text/markdown": [
       "$$M_{xU} = M_{xP} - F_{y}\\cdot (z_{P} - z_{U}) + F_{z}\\cdot (y_{P} - y_{U})$$"
      ],
      "text/plain": [
       "<IPython.core.display.Markdown object>"
      ]
     },
     "execution_count": 2,
     "metadata": {},
     "output_type": "execute_result"
    }
   ],
   "source": [
    "Markdown(get_markdown_from_docs(moment_x_reference.__doc__))"
   ]
  },
  {
   "cell_type": "code",
   "execution_count": 3,
   "metadata": {},
   "outputs": [
    {
     "data": {
      "text/markdown": [
       "$$M_{yU} = M_{yP} + F_{x}\\cdot (z_{P} - z_{U}) - F_{z}\\cdot (x_{P} - x_{U})$$"
      ],
      "text/plain": [
       "<IPython.core.display.Markdown object>"
      ]
     },
     "execution_count": 3,
     "metadata": {},
     "output_type": "execute_result"
    }
   ],
   "source": [
    "\n",
    "Markdown(get_markdown_from_docs(moment_y_reference.__doc__))\n"
   ]
  },
  {
   "cell_type": "code",
   "execution_count": 4,
   "metadata": {},
   "outputs": [
    {
     "data": {
      "text/markdown": [
       "$$M_{zU} = M_{zP} - F_{x}\\cdot (y_{P} - y_{U}) + F_{y}\\cdot (x_{P} - x_{U})$$"
      ],
      "text/plain": [
       "<IPython.core.display.Markdown object>"
      ]
     },
     "execution_count": 4,
     "metadata": {},
     "output_type": "execute_result"
    }
   ],
   "source": [
    "Markdown(get_markdown_from_docs(moment_z_reference.__doc__))"
   ]
  },
  {
   "cell_type": "markdown",
   "metadata": {},
   "source": [
    "## 3.2 Shear forces\n",
    "<img src=\"../docs\\source\\_static\\HSB_21030_10_fig_3_Shear_forces.PNG\" alt=\"shear forces\" style=\"width: 500px;\"/>"
   ]
  },
  {
   "cell_type": "markdown",
   "metadata": {},
   "source": [
    "### 3.2.1 Centroid of the fastener group (point S)\n"
   ]
  },
  {
   "cell_type": "code",
   "execution_count": 5,
   "metadata": {},
   "outputs": [],
   "source": [
    "from pylantir.pyelbe.hsb.hsb_21030_10 import FastenerGroup, Hsb2103001"
   ]
  },
  {
   "cell_type": "code",
   "execution_count": 6,
   "metadata": {},
   "outputs": [
    {
     "data": {
      "text/markdown": [
       "$$y_{S} = \\frac{\\sum (F_{s,all,i}\\cdot y_{i})}{\\sum F_{s,all,i}}$$"
      ],
      "text/plain": [
       "<IPython.core.display.Markdown object>"
      ]
     },
     "execution_count": 6,
     "metadata": {},
     "output_type": "execute_result"
    }
   ],
   "source": [
    "Markdown(get_markdown_from_docs(FastenerGroup.calculate_centroid_ys.__doc__))"
   ]
  },
  {
   "cell_type": "code",
   "execution_count": 7,
   "metadata": {},
   "outputs": [
    {
     "data": {
      "text/markdown": [
       "$$z_{T} = \\frac{\\sum (F_{t,all,i}\\cdot z_{i})}{\\sum F_{t,all,i}}$$"
      ],
      "text/plain": [
       "<IPython.core.display.Markdown object>"
      ]
     },
     "execution_count": 7,
     "metadata": {},
     "output_type": "execute_result"
    }
   ],
   "source": [
    "Markdown(get_markdown_from_docs(FastenerGroup.calculate_centroid_zt.__doc__))"
   ]
  },
  {
   "cell_type": "code",
   "execution_count": 8,
   "metadata": {},
   "outputs": [
    {
     "data": {
      "text/markdown": [
       "$$M_{xS} = M_{xU} + F_{y} \\cdot z_{s} - F_{z} \\cdot y_{s}$$"
      ],
      "text/plain": [
       "<IPython.core.display.Markdown object>"
      ]
     },
     "execution_count": 8,
     "metadata": {},
     "output_type": "execute_result"
    }
   ],
   "source": [
    "Markdown(get_markdown_from_docs(Hsb2103001.calculate_mxs.__doc__))"
   ]
  },
  {
   "cell_type": "markdown",
   "metadata": {},
   "source": [
    "### 3.2.3 Shear forces in the fasteners\n"
   ]
  },
  {
   "cell_type": "code",
   "execution_count": 9,
   "metadata": {},
   "outputs": [
    {
     "data": {
      "text/markdown": [
       "$$F_{S,y,i} = F_{y} + \\frac {F_{S,all,i}}{\\sum F_{S,all,i}} -\n",
       "        M_{xS} \\cdot \\frac{F_{S,all,i} \\cdot (z_{i} - z_{s})}{\\sum \\left\n",
       "        \\{ F_{S,all,i} \\cdot [(y_{i} - y_{S} )^{2} + (z_{i} - z_{s})^{2}] \\right \\}}$$"
      ],
      "text/plain": [
       "<IPython.core.display.Markdown object>"
      ]
     },
     "execution_count": 9,
     "metadata": {},
     "output_type": "execute_result"
    }
   ],
   "source": [
    "Markdown(get_markdown_from_docs(Hsb2103001.calculate_fsy.__doc__))"
   ]
  },
  {
   "cell_type": "code",
   "execution_count": 10,
   "metadata": {},
   "outputs": [
    {
     "data": {
      "text/markdown": [
       "$$F_{S,z,i} = F_{z} - \\frac{F_{S,all,i}}{\\sum F_{S,all,i}} +\n",
       "        M_{x,S} \\cdot \\frac{F_{S,all,i} \\cdot (y_{i} - y_{s})}{\\sum \\left\n",
       "        \\{ F_{S,all,i} \\cdot [(y_{i} - y_{S} )^{2} + (z_{i} - z_{s})^{2}] \\right \\}}$$"
      ],
      "text/plain": [
       "<IPython.core.display.Markdown object>"
      ]
     },
     "execution_count": 10,
     "metadata": {},
     "output_type": "execute_result"
    }
   ],
   "source": [
    "Markdown(get_markdown_from_docs(Hsb2103001.calculate_fsz.__doc__))"
   ]
  },
  {
   "cell_type": "code",
   "execution_count": 11,
   "metadata": {},
   "outputs": [
    {
     "data": {
      "text/markdown": [
       "$$F_{S,i} = \\sqrt{F_{S,z,i}^{2} + F_{S,y,i}^{2}}$$"
      ],
      "text/plain": [
       "<IPython.core.display.Markdown object>"
      ]
     },
     "execution_count": 11,
     "metadata": {},
     "output_type": "execute_result"
    }
   ],
   "source": [
    "Markdown(get_markdown_from_docs(Hsb2103001.calculate_fastener_shear_forces.__doc__))"
   ]
  },
  {
   "cell_type": "markdown",
   "metadata": {},
   "source": [
    "## 3.3 Tensile forces  \n",
    "\n",
    "If the fasteners are made of different materials, the allowable tensile forces need to be scaled by the  \n",
    "ratio of the moduli of elasicity.  \n",
    "Forces taken by the fasteners:  \n",
    "<img src=\"../docs\\source\\_static\\HSB_21030_10_fig_5_Tensile_forces.PNG\" alt=\"shear forces\" style=\"width: 500px;\"/>  \n",
    "### 3.3.1 Centroid of the fastener group (point T)\n"
   ]
  },
  {
   "cell_type": "code",
   "execution_count": 12,
   "metadata": {},
   "outputs": [
    {
     "data": {
      "text/markdown": [
       "$$y_{T} = \\frac{\\sum (F_{t,all,i}\\cdot y_{i})}{\\sum F_{t,all,i}}$$"
      ],
      "text/plain": [
       "<IPython.core.display.Markdown object>"
      ]
     },
     "execution_count": 12,
     "metadata": {},
     "output_type": "execute_result"
    }
   ],
   "source": [
    "Markdown(get_markdown_from_docs(FastenerGroup.calculate_centroid_yt.__doc__))"
   ]
  },
  {
   "cell_type": "code",
   "execution_count": 13,
   "metadata": {},
   "outputs": [
    {
     "data": {
      "text/markdown": [
       "$$z_{T} = \\frac{\\sum (F_{t,all,i}\\cdot z_{i})}{\\sum F_{t,all,i}}$$"
      ],
      "text/plain": [
       "<IPython.core.display.Markdown object>"
      ]
     },
     "execution_count": 13,
     "metadata": {},
     "output_type": "execute_result"
    }
   ],
   "source": [
    "Markdown(get_markdown_from_docs(FastenerGroup.calculate_centroid_zt.__doc__))"
   ]
  },
  {
   "cell_type": "markdown",
   "metadata": {},
   "source": [
    "### 3.3.2 Moments about point T\n"
   ]
  },
  {
   "cell_type": "code",
   "execution_count": 14,
   "metadata": {},
   "outputs": [
    {
     "data": {
      "text/markdown": [
       "$$M_{yS} = M_{yU} - F_{x} \\cdot z_{T}$$"
      ],
      "text/plain": [
       "<IPython.core.display.Markdown object>"
      ]
     },
     "execution_count": 14,
     "metadata": {},
     "output_type": "execute_result"
    }
   ],
   "source": [
    "Markdown(get_markdown_from_docs(Hsb2103001.calculate_mys.__doc__))"
   ]
  },
  {
   "cell_type": "code",
   "execution_count": 15,
   "metadata": {},
   "outputs": [
    {
     "data": {
      "text/markdown": [
       "$$M_{zS} = M_{zU} + F_{x} \\cdot y_{T}$$"
      ],
      "text/plain": [
       "<IPython.core.display.Markdown object>"
      ]
     },
     "execution_count": 15,
     "metadata": {},
     "output_type": "execute_result"
    }
   ],
   "source": [
    "Markdown(get_markdown_from_docs(Hsb2103001.calculate_mzs.__doc__))"
   ]
  },
  {
   "cell_type": "markdown",
   "metadata": {},
   "source": [
    "<img src=\"../docs\\source\\_static\\HSB_21030_10_fig_4_Moments_about_point_T.PNG\" alt=\"shear forces\" style=\"width: 500px;\"/>  \n",
    "\n",
    "### 3.3.3 Tensile forces in the fasteners  \n",
    "To balance the forces it is necessary to transform the applied loading into the principal axis system  \n",
    "of the fastener group.\n",
    "\n",
    "<img src=\"../docs\\source\\_static\\HSB_21030_10_fig_6_Tensile_forces_transformation.PNG\" alt=\"shear forces\" style=\"width: 500px;\"/>  "
   ]
  },
  {
   "cell_type": "code",
   "execution_count": 16,
   "metadata": {},
   "outputs": [
    {
     "data": {
      "text/markdown": [
       "$$tan(2 \\cdot \\alpha) = 2 \\cdot \\frac{\\sum[F_{T,all,i} \\cdot (y_{i} -\n",
       "         y_{T}) \\cdot (z_{i} - z_{T})]}\n",
       "        {\\sum[F_{T,all,i} \\cdot (y_{i} - y_{T})^{2}] - \\sum[F_{T,all,i} \\cdot (z_{i} - z_{T})^{2}]}$$"
      ],
      "text/plain": [
       "<IPython.core.display.Markdown object>"
      ]
     },
     "execution_count": 16,
     "metadata": {},
     "output_type": "execute_result"
    }
   ],
   "source": [
    "Markdown(get_markdown_from_docs(Hsb2103001.calculate_alpha.__doc__))"
   ]
  },
  {
   "cell_type": "code",
   "execution_count": 17,
   "metadata": {},
   "outputs": [
    {
     "data": {
      "text/markdown": [
       "$$y_{T,a} = y_{T} * cos(\\alpha) - z_{T} * sin(\\alpha)$$"
      ],
      "text/plain": [
       "<IPython.core.display.Markdown object>"
      ]
     },
     "execution_count": 17,
     "metadata": {},
     "output_type": "execute_result"
    }
   ],
   "source": [
    "Markdown(get_markdown_from_docs(Hsb2103001.calculate_centroid_yta.__doc__))"
   ]
  },
  {
   "cell_type": "code",
   "execution_count": 18,
   "metadata": {},
   "outputs": [
    {
     "data": {
      "text/markdown": [
       "$$z_{T,a} =  - y_{T} * sin(\\alpha) + z_{T} * cos(\\alpha)$$"
      ],
      "text/plain": [
       "<IPython.core.display.Markdown object>"
      ]
     },
     "execution_count": 18,
     "metadata": {},
     "output_type": "execute_result"
    }
   ],
   "source": [
    "Markdown(get_markdown_from_docs(Hsb2103001.calculate_centroid_zta.__doc__))"
   ]
  },
  {
   "cell_type": "code",
   "execution_count": 19,
   "metadata": {},
   "outputs": [
    {
     "data": {
      "text/markdown": [
       "$$y_{a,i} = y_{i} * cos(\\alpha) - z_{i} * sin(\\alpha)$$"
      ],
      "text/plain": [
       "<IPython.core.display.Markdown object>"
      ]
     },
     "execution_count": 19,
     "metadata": {},
     "output_type": "execute_result"
    }
   ],
   "source": [
    "Markdown(get_markdown_from_docs(Hsb2103001.calculate_fastener_ya.__doc__))"
   ]
  },
  {
   "cell_type": "code",
   "execution_count": 20,
   "metadata": {},
   "outputs": [
    {
     "data": {
      "text/markdown": [
       "$$z_{a,i} =  - y_{i} * sin(\\alpha) + z_{i} * cos(\\alpha)$$"
      ],
      "text/plain": [
       "<IPython.core.display.Markdown object>"
      ]
     },
     "execution_count": 20,
     "metadata": {},
     "output_type": "execute_result"
    }
   ],
   "source": [
    "Markdown(get_markdown_from_docs(Hsb2103001.calculate_fastener_za.__doc__))"
   ]
  },
  {
   "cell_type": "code",
   "execution_count": 21,
   "metadata": {},
   "outputs": [
    {
     "data": {
      "text/markdown": [
       "$$M_{ySA} = M_{yS} * cos(\\alpha) - M_{zS} * sin(\\alpha)$$"
      ],
      "text/plain": [
       "<IPython.core.display.Markdown object>"
      ]
     },
     "execution_count": 21,
     "metadata": {},
     "output_type": "execute_result"
    }
   ],
   "source": [
    "Markdown(get_markdown_from_docs(Hsb2103001.calculate_moment_ya.__doc__))"
   ]
  },
  {
   "cell_type": "code",
   "execution_count": 22,
   "metadata": {},
   "outputs": [
    {
     "data": {
      "text/markdown": [
       "$$M_{zSA} =  - M_{yS} * sin(\\alpha) + M_{zS} * cos(\\alpha)$$"
      ],
      "text/plain": [
       "<IPython.core.display.Markdown object>"
      ]
     },
     "execution_count": 22,
     "metadata": {},
     "output_type": "execute_result"
    }
   ],
   "source": [
    "Markdown(get_markdown_from_docs(Hsb2103001.calculate_moment_za.__doc__))"
   ]
  },
  {
   "cell_type": "code",
   "execution_count": 23,
   "metadata": {},
   "outputs": [
    {
     "data": {
      "text/markdown": [
       "$$F_{1,i} = F_{x}\\cdot \\frac{F_{t,all,i}}{\\sum F_{t,all,i}}$$"
      ],
      "text/plain": [
       "<IPython.core.display.Markdown object>"
      ]
     },
     "execution_count": 23,
     "metadata": {},
     "output_type": "execute_result"
    }
   ],
   "source": [
    "Markdown(get_markdown_from_docs(Hsb2103001.calculate_fastener_tension_force_f1.__doc__))"
   ]
  },
  {
   "cell_type": "code",
   "execution_count": 24,
   "metadata": {},
   "outputs": [
    {
     "data": {
      "text/markdown": [
       "$$F_{2,i} = M_{ySA}\\cdot \\frac{\\left [ F_{T,all,i} \\cdot\n",
       "                \\left ( z_{Ai} - z_{TA} \\right ) \\right ]}{\\sum \\left [ F_{T,all,i} \\cdot\n",
       "                \\left ( z_{Ai} - z_{TA} \\right )^2 \\right ]}$$"
      ],
      "text/plain": [
       "<IPython.core.display.Markdown object>"
      ]
     },
     "execution_count": 24,
     "metadata": {},
     "output_type": "execute_result"
    }
   ],
   "source": [
    "Markdown(get_markdown_from_docs(Hsb2103001.calculate_fastener_tension_force_f2.__doc__))"
   ]
  },
  {
   "cell_type": "code",
   "execution_count": 25,
   "metadata": {},
   "outputs": [
    {
     "data": {
      "text/markdown": [
       "$$F_{2,i} = M_{zSA}\\cdot \\frac{\\left [ F_{T,all,i} \\cdot\n",
       "                \\left ( y_{Ai} - y_{TA} \\right ) \\right ]}{\\sum \\left [ F_{T,all,i} \\cdot\n",
       "                \\left ( y_{Ai} - y_{TA} \\right )^2 \\right ]}$$"
      ],
      "text/plain": [
       "<IPython.core.display.Markdown object>"
      ]
     },
     "execution_count": 25,
     "metadata": {},
     "output_type": "execute_result"
    }
   ],
   "source": [
    "Markdown(get_markdown_from_docs(Hsb2103001.calculate_fastener_tension_force_f3.__doc__))"
   ]
  },
  {
   "cell_type": "code",
   "execution_count": 26,
   "metadata": {},
   "outputs": [
    {
     "data": {
      "text/markdown": [
       "$$F_{i} = F_{1,i} + F_{2,i} + F_{3,i}$$"
      ],
      "text/plain": [
       "<IPython.core.display.Markdown object>"
      ]
     },
     "execution_count": 26,
     "metadata": {},
     "output_type": "execute_result"
    }
   ],
   "source": [
    "Markdown(get_markdown_from_docs(Hsb2103001.calculate_fastener_tension_force.__doc__))"
   ]
  },
  {
   "cell_type": "markdown",
   "metadata": {},
   "source": [
    "## 3.4 Additional forces due to the contact of the joined parts (compression)  \n",
    "The fasteners considered above are loaded in tension only. Compressive forces are taken by contact  \n",
    "of the joined parts (point C). If, after the first calculation, individual fasteners show negative tensile  \n",
    "forces, a second calculation is required as follows:  \n",
    "\n",
    "<img src=\"../docs\\source\\_static\\HSB_21030_10_fig_7_Compression.PNG\" alt=\"shear forces\" style=\"width: 500px;\"/>\n",
    "\n",
    "The allowable tensile force of those fasteners that experience negative tensile forces after the first  \n",
    "iteration is set to zero (0.001 N). The allowable shear forces remain unchanged.  \n",
    "In the area of the two faces in contact, introduce a dummy fastener with an allowable shear force  \n",
    "of zero (0.001 kN) and a large allowable tensile force (9999 kN). The resulting negative tensile  \n",
    "force of the dummy fastener represents the supporting force FC of the contact. The position of  \n",
    "the dummy fastener is the point where the resulting compressive force acts; the position has to be  \n",
    "estimated based on the joint stiffness.  "
   ]
  },
  {
   "cell_type": "markdown",
   "metadata": {},
   "source": [
    "# 4 Example\n",
    "\n",
    "## 4.1 Configuration considered\n",
    "### 4.1.1 Layout of the fastener group\n",
    "\n",
    "<img src=\"../docs\\source\\_static\\HSB_21030_10_fig_8_Layout_of_the_fastener_group.PNG\" alt=\"shear forces\" style=\"width: 500px;\"/>\n",
    "\n",
    "### 4.1.2 Contact area of the joint parts (no load transfer)\n",
    "\n",
    "<img src=\"../docs\\source\\_static\\HSB_21030_10_fig_9_Contact_area_of_the_joint_parts.PNG\" alt=\"shear forces\" style=\"width: 500px;\"/>\n",
    "\n",
    "### 4.1.3 Contact area and reaction forces (kN)\n",
    "\n",
    "<img src=\"../docs\\source\\_static\\HSB_21030_10_fig_10_Contact_area_and_reaction_forces.PNG\" alt=\"shear forces\" style=\"width: 500px;\"/>\n",
    "\n",
    "## 4.2 Loading of the fastener group (ultimate, with respect to point P)\n",
    "\n",
    "xP = 30.0 mm | yP = 0 mm | zP = 0 mm  \n",
    "---|---|---  \n",
    "Fx = +10.0 kN | Fy = +12.0 kN | Fz = −2.0 kN  \n",
    "Mx = −240 N · m M | My = +200 N · m | Mz = 0  \n",
    "\n",
    "\n",
    "\n"
   ]
  },
  {
   "cell_type": "code",
   "execution_count": 27,
   "metadata": {},
   "outputs": [
    {
     "name": "stdout",
     "output_type": "stream",
     "text": [
      "fastener fast1 is in compression: -1115.3846153846134\n",
      "fastener fast2 is in tension: 6615.384615384614\n",
      "fastener fast3 is in tension: 4826.923076923076\n",
      "fastener fast4 is in compression: -326.9230769230744\n",
      "Fasteners in compression, iterate calculation!\n"
     ]
    }
   ],
   "source": [
    "from pylantir.pyelbe.hsb.hsb_21030_10 import ReferencePoint, Forces, Moments, Fastener, Hsb2103001\n",
    "\n",
    "\n",
    "# point P definition\n",
    "point_p = ReferencePoint(name=\"P\", x_coord=30, y_coord=0, z_coord=0)\n",
    "\n",
    "# point U definition\n",
    "point_u = ReferencePoint(name=\"P\", x_coord=0, y_coord=0, z_coord=0)\n",
    "\n",
    "# Load definition\n",
    "# force around P\n",
    "# Forces = namedtuple(\"Forces\", \"force_x force_y force_z\")\n",
    "forces = Forces(name=\"forces\", force_x=10000, force_y=12000, force_z=-2000)\n",
    "\n",
    "# Moment around U\n",
    "moments = Moments(name=\"moments\", moment_x=-240000, moment_y=200000, moment_z=0)\n",
    "\n",
    "    # fastener 1 definition\n",
    "    # fastener_1 = Fastener(\"fast1\", \"test\", \"test\", 1, 1, 1, 1, 0, -70, 35)\n",
    "fastener_1 = Fastener(\n",
    "    name=\"fast1\",\n",
    "    specification=\"test\",\n",
    "    material=\"test\",\n",
    "    shear_allowable=18500,\n",
    "    tension_allowable=12000,\n",
    "    x_coord=0,\n",
    "    y_coord=-70,\n",
    "    z_coord=35,\n",
    ")\n",
    "\n",
    "# fastener 2 definition\n",
    "# fastener_2 = Fastener(\"fast2\", \"test\", \"test\", 1, 1, 1, 1, 0, -40, 35)\n",
    "fastener_2 = Fastener(\n",
    "    name=\"fast2\",\n",
    "    specification=\"test\",\n",
    "    material=\"test\",\n",
    "    shear_allowable=18500,\n",
    "    tension_allowable=12000,\n",
    "    x_coord=0,\n",
    "    y_coord=-40,\n",
    "    z_coord=35,\n",
    ")\n",
    "\n",
    "# fastener 3 definition\n",
    "# fastener_3 = Fastener(\"fast3\", \"test\", \"test\", 1, 1, 1, 1, 0, -40, 15)\n",
    "fastener_3 = Fastener(\n",
    "    name=\"fast3\",\n",
    "    specification=\"test\",\n",
    "    material=\"test\",\n",
    "    shear_allowable=18500,\n",
    "    tension_allowable=12000,\n",
    "    x_coord=0,\n",
    "    y_coord=-40,\n",
    "    z_coord=15,\n",
    ")\n",
    "\n",
    "# fastener 4 definition\n",
    "# fastener_4 = Fastener(\"fast4\", \"test\", \"test\", 1, 1, 1, 1, 0, -60, 15)\n",
    "fastener_4 = Fastener(\n",
    "    name=\"fast4\",\n",
    "    specification=\"test\",\n",
    "    material=\"test\",\n",
    "    shear_allowable=18500,\n",
    "    tension_allowable=12000,\n",
    "    x_coord=0,\n",
    "    y_coord=-60,\n",
    "    z_coord=15,\n",
    ")\n",
    "\n",
    "# fastener group definition\n",
    "fastener_group = FastenerGroup(\n",
    "    name=\"test\", fasteners=[fastener_1, fastener_2, fastener_3, fastener_4]\n",
    ")\n",
    "\n",
    "# Hsb2103001\n",
    "hsb_calc = Hsb2103001(\n",
    "    name=\"Hsb2103001\",\n",
    "    fastener_group=fastener_group,\n",
    "    forces=forces,\n",
    "    moments=moments,\n",
    "    application_point=point_p,\n",
    "    reference_point=point_u,\n",
    ")\n"
   ]
  },
  {
   "cell_type": "markdown",
   "metadata": {},
   "source": [
    "## 4.3 Moments about point U\n",
    "MxU = −240 N · m MyU = +260 N · m MzU = +360 N · m"
   ]
  },
  {
   "cell_type": "code",
   "execution_count": 28,
   "metadata": {},
   "outputs": [
    {
     "name": "stdout",
     "output_type": "stream",
     "text": [
      "moments_u(moment_x_u=-240000.0, moment_y_u=260000.0, moment_z_u=360000.0)\n"
     ]
    }
   ],
   "source": [
    "print(hsb_calc.moments_u) "
   ]
  },
  {
   "cell_type": "markdown",
   "metadata": {},
   "source": [
    "## 4.4 Centroid of the fastener group (with respect to point U)\n",
    "Shear \n",
    "yS = −52.5 mm \n",
    "zS = +25.0 mm  \n",
    "\n",
    "Tension \n",
    "yT = −52.5 mm \n",
    "zT = +25.0 mm  "
   ]
  },
  {
   "cell_type": "code",
   "execution_count": 29,
   "metadata": {},
   "outputs": [
    {
     "name": "stdout",
     "output_type": "stream",
     "text": [
      "hsb_calc.fastener_group.centroid_ys = -52.5\n",
      "hsb_calc.fastener_group.centroid_zs = 25.0\n",
      "\n",
      "hsb_calc.fastener_group.centroid_yt = -52.5\n",
      "hsb_calc.fastener_group.centroid_zt = 25.0\n"
     ]
    }
   ],
   "source": [
    "print(f\"{hsb_calc.fastener_group.centroid_ys = }\")\n",
    "print(f\"{hsb_calc.fastener_group.centroid_zs = }\")\n",
    "print()\n",
    "print(f\"{hsb_calc.fastener_group.centroid_yt = }\")\n",
    "print(f\"{hsb_calc.fastener_group.centroid_zt = }\")\n"
   ]
  },
  {
   "cell_type": "markdown",
   "metadata": {},
   "source": [
    "## 4.5 Moments about the centroid of the fastener group\n",
    "Shear MxS = −45 N · m  \n",
    "Tension MyS = +10 N · m  \n",
    "Tension MzS = −165 N · m  "
   ]
  },
  {
   "cell_type": "code",
   "execution_count": 30,
   "metadata": {},
   "outputs": [
    {
     "name": "stdout",
     "output_type": "stream",
     "text": [
      "hsb_calc.moment_x_s = -45000.0\n",
      "hsb_calc.moment_y_s = 10000.0\n",
      "hsb_calc.moment_z_s = -165000.0\n",
      "NOTE: units are in Nmm\n"
     ]
    }
   ],
   "source": [
    "print(f\"{hsb_calc.moment_x_s = }\")\n",
    "print(f\"{hsb_calc.moment_y_s = }\")\n",
    "print(f\"{hsb_calc.moment_z_s = }\")\n",
    "print(\"NOTE: units are in Nmm\")"
   ]
  },
  {
   "cell_type": "markdown",
   "metadata": {},
   "source": [
    "# 4.6 Forces of the individual fasteners\n",
    "yi | zi |  Fs,y,i |  Fs,z,i |  Fs,i |  Ft,i\n",
    "---|---|---|---|---|---\n",
    "i |  mm |  mm |  kN |  kN |  kN |  kN\n",
    "1 |  -70.0 |  +35.0 |  +3.42 |  +0.23 |  3.43 |  -1.12\n",
    "2 |  -40.0 |  +35.0 |  +3.42 |  -1.02 |  3.57 |  +6.62\n",
    "3 |  -40.0 |  +15.0 |  +2.58 |  -1.02 |  2.78 |  +4.83\n",
    "4 |  -60.0 |  +15.0 |  +2.58 |  -0.19 |  2.59 |  -0.33"
   ]
  },
  {
   "cell_type": "code",
   "execution_count": 31,
   "metadata": {},
   "outputs": [
    {
     "data": {
      "text/html": [
       "<div>\n",
       "<style scoped>\n",
       "    .dataframe tbody tr th:only-of-type {\n",
       "        vertical-align: middle;\n",
       "    }\n",
       "\n",
       "    .dataframe tbody tr th {\n",
       "        vertical-align: top;\n",
       "    }\n",
       "\n",
       "    .dataframe thead th {\n",
       "        text-align: right;\n",
       "    }\n",
       "</style>\n",
       "<table border=\"1\" class=\"dataframe\">\n",
       "  <thead>\n",
       "    <tr style=\"text-align: right;\">\n",
       "      <th></th>\n",
       "      <th>X</th>\n",
       "      <th>Y</th>\n",
       "      <th>Shear</th>\n",
       "      <th>Tension</th>\n",
       "      <th>Fsyi</th>\n",
       "      <th>Fsz</th>\n",
       "      <th>Shear Force</th>\n",
       "      <th>Tension Force</th>\n",
       "      <th>Shear Reserve Factor</th>\n",
       "      <th>Tension Reserve Factor</th>\n",
       "    </tr>\n",
       "  </thead>\n",
       "  <tbody>\n",
       "    <tr>\n",
       "      <th>0</th>\n",
       "      <td>0</td>\n",
       "      <td>-70</td>\n",
       "      <td>18500</td>\n",
       "      <td>12000</td>\n",
       "      <td>3418.604651</td>\n",
       "      <td>232.558140</td>\n",
       "      <td>3426.505662</td>\n",
       "      <td>-1115.384615</td>\n",
       "      <td>5.39</td>\n",
       "      <td>-10.75</td>\n",
       "    </tr>\n",
       "    <tr>\n",
       "      <th>1</th>\n",
       "      <td>0</td>\n",
       "      <td>-40</td>\n",
       "      <td>18500</td>\n",
       "      <td>12000</td>\n",
       "      <td>3418.604651</td>\n",
       "      <td>-1023.255814</td>\n",
       "      <td>3568.460483</td>\n",
       "      <td>6615.384615</td>\n",
       "      <td>5.18</td>\n",
       "      <td>1.81</td>\n",
       "    </tr>\n",
       "    <tr>\n",
       "      <th>2</th>\n",
       "      <td>0</td>\n",
       "      <td>-40</td>\n",
       "      <td>18500</td>\n",
       "      <td>12000</td>\n",
       "      <td>2581.395349</td>\n",
       "      <td>-1023.255814</td>\n",
       "      <td>2776.806512</td>\n",
       "      <td>4826.923077</td>\n",
       "      <td>6.66</td>\n",
       "      <td>2.48</td>\n",
       "    </tr>\n",
       "    <tr>\n",
       "      <th>3</th>\n",
       "      <td>0</td>\n",
       "      <td>-60</td>\n",
       "      <td>18500</td>\n",
       "      <td>12000</td>\n",
       "      <td>2581.395349</td>\n",
       "      <td>-186.046512</td>\n",
       "      <td>2588.091044</td>\n",
       "      <td>-326.923077</td>\n",
       "      <td>7.14</td>\n",
       "      <td>-36.70</td>\n",
       "    </tr>\n",
       "  </tbody>\n",
       "</table>\n",
       "</div>"
      ],
      "text/plain": [
       "   X   Y  Shear  Tension         Fsyi          Fsz  Shear Force  \\\n",
       "0  0 -70  18500    12000  3418.604651   232.558140  3426.505662   \n",
       "1  0 -40  18500    12000  3418.604651 -1023.255814  3568.460483   \n",
       "2  0 -40  18500    12000  2581.395349 -1023.255814  2776.806512   \n",
       "3  0 -60  18500    12000  2581.395349  -186.046512  2588.091044   \n",
       "\n",
       "   Tension Force  Shear Reserve Factor  Tension Reserve Factor  \n",
       "0   -1115.384615                  5.39                  -10.75  \n",
       "1    6615.384615                  5.18                    1.81  \n",
       "2    4826.923077                  6.66                    2.48  \n",
       "3    -326.923077                  7.14                  -36.70  "
      ]
     },
     "execution_count": 31,
     "metadata": {},
     "output_type": "execute_result"
    }
   ],
   "source": [
    "import pandas as pd\n",
    "pd.DataFrame(hsb_calc.result_dict)"
   ]
  },
  {
   "cell_type": "markdown",
   "metadata": {},
   "source": [
    "## 4.7 Fasteners loaded in compression\n",
    "Fasteners 1 and 4 are loaded in compression (Ft,i is negative). The determination of the fastener  \n",
    "forces is repeated with Ft,all for the fasteners 1 and 4 set zero, both fasteners are therefore loaded  \n",
    "in shear only. A dummy fastener is introduced. This fastener (5) represents the location where the  \n",
    "resulting compressive force acts: location C.  "
   ]
  },
  {
   "cell_type": "code",
   "execution_count": 32,
   "metadata": {},
   "outputs": [
    {
     "name": "stdout",
     "output_type": "stream",
     "text": [
      "fastener fast1 is in tension: 0.0\n",
      "fastener fast2 is in tension: 6166.666666666668\n",
      "fastener fast3 is in tension: 5166.666666666668\n",
      "fastener fast4 is in tension: 0.0\n",
      "fastener dummy_fastener is in compression: -11189.089874089555\n",
      "Fasteners in compression, iterate calculation!\n",
      "NOTE: fastener dummy_fastener is added to fastener group\n"
     ]
    }
   ],
   "source": [
    "from pylantir.pyelbe.hsb.hsb_21030_10 import iterate_calc\n",
    "\n",
    "hsb_calc_iteration = iterate_calc(hsb_calc)\n"
   ]
  },
  {
   "cell_type": "markdown",
   "metadata": {},
   "source": [
    "### 4.7.1 Centroid of the fastener group (with respect to point P) (iteration of 4.4)\n",
    "Shear  \n",
    "yS = −52.5 mm   \n",
    "zS = +25.0 mm  \n",
    "  \n",
    "Tension   \n",
    "yT = −69.9 mm   \n",
    "zT = +25.0 mm  "
   ]
  },
  {
   "cell_type": "code",
   "execution_count": 33,
   "metadata": {},
   "outputs": [
    {
     "name": "stdout",
     "output_type": "stream",
     "text": [
      "hsb_calc_iteration.fastener_group.centroid_ys = -52.500000023648646\n",
      "hsb_calc_iteration.fastener_group.centroid_zs = 24.999999999999996\n",
      "\n",
      "hsb_calc_iteration.fastener_group.centroid_yt = -69.92816521999401\n",
      "hsb_calc_iteration.fastener_group.centroid_zt = 25.0\n"
     ]
    }
   ],
   "source": [
    "print(f\"{hsb_calc_iteration.fastener_group.centroid_ys = }\")\n",
    "print(f\"{hsb_calc_iteration.fastener_group.centroid_zs = }\")\n",
    "print()\n",
    "print(f\"{hsb_calc_iteration.fastener_group.centroid_yt = }\")\n",
    "print(f\"{hsb_calc_iteration.fastener_group.centroid_zt = }\")\n"
   ]
  },
  {
   "cell_type": "markdown",
   "metadata": {},
   "source": [
    "## 4.7.2 Moments about the centroid of the fastener group (iteration of 4.5)\n",
    "Shear Mx,S = −45 N · m  \n",
    "Tension My,S = +10 N · m  \n",
    "Tension Mz,S = −339 N · m  "
   ]
  },
  {
   "cell_type": "code",
   "execution_count": 34,
   "metadata": {},
   "outputs": [
    {
     "name": "stdout",
     "output_type": "stream",
     "text": [
      "hsb_calc_iteration.moment_x_s = -45000.00004729735\n",
      "hsb_calc_iteration.moment_y_s = 10000.0\n",
      "hsb_calc_iteration.moment_z_s = -339281.6521999402\n",
      "NOTE: units are in Nmm\n"
     ]
    }
   ],
   "source": [
    "print(f\"{hsb_calc_iteration.moment_x_s = }\")\n",
    "print(f\"{hsb_calc_iteration.moment_y_s = }\")\n",
    "print(f\"{hsb_calc_iteration.moment_z_s = }\")\n",
    "print(\"NOTE: units are in Nmm\")"
   ]
  },
  {
   "cell_type": "markdown",
   "metadata": {},
   "source": [
    "### 4.7.3 Forces of the individual fastener (iteration of 4.6)\n",
    "fastener  | yi | zi |  Fs,y,i |  Fs,z,i |  Fs,i |  Ft,i\n",
    "---|---|---|---|---|---|---\n",
    "i |  mm |  mm |  kN |  kN |  kN |  kN |  kN\n",
    "1 |  -70.0 |  +35.0 |  +3.42 |  +0.23 |  3.43 |  0\n",
    "2 |  -40.0 |  +35.0 |  +3.42 |  -1.02 |  3.57 |  +6.17\n",
    "3 |  -40.0 |  +15.0 |  +2.58 |  -1.02 |  2.78 |  +5.17\n",
    "4 |  -60.0 |  +15.0 |  +2.58 |  -0.19 |  2.59 |  0\n",
    "“5” |-70.0 |  +25.0 |  0 |  0 |  0 |  -1.33\n",
    "\n",
    "### 4.7.4 Reserve Factors of the individual fasteners\n",
    "For the fastener type HL10 (Hi-Lok, diameter = 6 mm with Fs,all,i and Ft,all,i taken from the corresponding HSB sheets) and with Fs,i and Ft,i taken from the table given above the reserve factors\n",
    "RF follow as:\n",
    "\n",
    "Fastener | Fs,all,i |  Ft,all,i |  RF = Fs,all,i/Fs,i |  RF = Ft,all,i/Ft,i\n",
    "---|---|---|---|---\n",
    "i |  kN |  kN |  - |  -\n",
    "1 |  18.5 |  -  | 18.5/3.43 = 5.39  | -\n",
    "2 |  18.5 |  12.0 |  18.5/3.57 = 5.18 |  12.0/6.17 = 1.92\n",
    "3 |  18.5 | 12.0  | 18.5/2.78 = 6.65  | 12.0/5.17 = 2.27\n",
    "4 |  18.5 | -  | 18.5/2.59 = 7.14 |  -"
   ]
  },
  {
   "cell_type": "code",
   "execution_count": 35,
   "metadata": {},
   "outputs": [
    {
     "data": {
      "text/html": [
       "<div>\n",
       "<style scoped>\n",
       "    .dataframe tbody tr th:only-of-type {\n",
       "        vertical-align: middle;\n",
       "    }\n",
       "\n",
       "    .dataframe tbody tr th {\n",
       "        vertical-align: top;\n",
       "    }\n",
       "\n",
       "    .dataframe thead th {\n",
       "        text-align: right;\n",
       "    }\n",
       "</style>\n",
       "<table border=\"1\" class=\"dataframe\">\n",
       "  <thead>\n",
       "    <tr style=\"text-align: right;\">\n",
       "      <th></th>\n",
       "      <th>X</th>\n",
       "      <th>Y</th>\n",
       "      <th>Shear</th>\n",
       "      <th>Tension</th>\n",
       "      <th>Fsyi</th>\n",
       "      <th>Fsz</th>\n",
       "      <th>Shear Force</th>\n",
       "      <th>Tension Force</th>\n",
       "      <th>Shear Reserve Factor</th>\n",
       "      <th>Tension Reserve Factor</th>\n",
       "    </tr>\n",
       "  </thead>\n",
       "  <tbody>\n",
       "    <tr>\n",
       "      <th>0</th>\n",
       "      <td>0.0</td>\n",
       "      <td>-70</td>\n",
       "      <td>18500.0000</td>\n",
       "      <td>0</td>\n",
       "      <td>3418.604647</td>\n",
       "      <td>232.558139</td>\n",
       "      <td>3426.505657</td>\n",
       "      <td>0.000000</td>\n",
       "      <td>5.39</td>\n",
       "      <td>NaN</td>\n",
       "    </tr>\n",
       "    <tr>\n",
       "      <th>1</th>\n",
       "      <td>0.0</td>\n",
       "      <td>-40</td>\n",
       "      <td>18500.0000</td>\n",
       "      <td>12000</td>\n",
       "      <td>3418.604647</td>\n",
       "      <td>-1023.255814</td>\n",
       "      <td>3568.460479</td>\n",
       "      <td>6166.666667</td>\n",
       "      <td>5.18</td>\n",
       "      <td>1.94</td>\n",
       "    </tr>\n",
       "    <tr>\n",
       "      <th>2</th>\n",
       "      <td>0.0</td>\n",
       "      <td>-40</td>\n",
       "      <td>18500.0000</td>\n",
       "      <td>12000</td>\n",
       "      <td>2581.395345</td>\n",
       "      <td>-1023.255814</td>\n",
       "      <td>2776.806509</td>\n",
       "      <td>5166.666667</td>\n",
       "      <td>6.66</td>\n",
       "      <td>2.32</td>\n",
       "    </tr>\n",
       "    <tr>\n",
       "      <th>3</th>\n",
       "      <td>0.0</td>\n",
       "      <td>-60</td>\n",
       "      <td>18500.0000</td>\n",
       "      <td>0</td>\n",
       "      <td>2581.395345</td>\n",
       "      <td>-186.046512</td>\n",
       "      <td>2588.091040</td>\n",
       "      <td>0.000000</td>\n",
       "      <td>7.14</td>\n",
       "      <td>NaN</td>\n",
       "    </tr>\n",
       "    <tr>\n",
       "      <th>4</th>\n",
       "      <td>0.0</td>\n",
       "      <td>-70</td>\n",
       "      <td>0.0001</td>\n",
       "      <td>9999000</td>\n",
       "      <td>0.000016</td>\n",
       "      <td>0.000001</td>\n",
       "      <td>0.000016</td>\n",
       "      <td>-11189.089874</td>\n",
       "      <td>6.14</td>\n",
       "      <td>-893.63</td>\n",
       "    </tr>\n",
       "  </tbody>\n",
       "</table>\n",
       "</div>"
      ],
      "text/plain": [
       "     X   Y       Shear  Tension         Fsyi          Fsz  Shear Force  \\\n",
       "0  0.0 -70  18500.0000        0  3418.604647   232.558139  3426.505657   \n",
       "1  0.0 -40  18500.0000    12000  3418.604647 -1023.255814  3568.460479   \n",
       "2  0.0 -40  18500.0000    12000  2581.395345 -1023.255814  2776.806509   \n",
       "3  0.0 -60  18500.0000        0  2581.395345  -186.046512  2588.091040   \n",
       "4  0.0 -70      0.0001  9999000     0.000016     0.000001     0.000016   \n",
       "\n",
       "   Tension Force  Shear Reserve Factor  Tension Reserve Factor  \n",
       "0       0.000000                  5.39                     NaN  \n",
       "1    6166.666667                  5.18                    1.94  \n",
       "2    5166.666667                  6.66                    2.32  \n",
       "3       0.000000                  7.14                     NaN  \n",
       "4  -11189.089874                  6.14                 -893.63  "
      ]
     },
     "execution_count": 35,
     "metadata": {},
     "output_type": "execute_result"
    }
   ],
   "source": [
    "pd.DataFrame(hsb_calc_iteration.result_dict)"
   ]
  },
  {
   "cell_type": "code",
   "execution_count": null,
   "metadata": {},
   "outputs": [],
   "source": []
  }
 ],
 "metadata": {
  "kernelspec": {
   "display_name": "Python 3.9.7 ('pagtools')",
   "language": "python",
   "name": "python3"
  },
  "language_info": {
   "codemirror_mode": {
    "name": "ipython",
    "version": 3
   },
   "file_extension": ".py",
   "mimetype": "text/x-python",
   "name": "python",
   "nbconvert_exporter": "python",
   "pygments_lexer": "ipython3",
   "version": "3.9.7"
  },
  "orig_nbformat": 4,
  "vscode": {
   "interpreter": {
    "hash": "b707436c64063d0597a34f5110470eed9495c60de866f818160afe7fb2faf969"
   }
  }
 },
 "nbformat": 4,
 "nbformat_minor": 2
}
