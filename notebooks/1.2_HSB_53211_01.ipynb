{
 "cells": [
  {
   "cell_type": "code",
   "execution_count": 4,
   "metadata": {},
   "outputs": [],
   "source": [
    "import sys\n",
    "sys.path.append('..')"
   ]
  },
  {
   "cell_type": "markdown",
   "metadata": {},
   "source": [
    "# Crippling strength of short metallic sections in compression  \n",
    "Issue I  \n",
    "Year 2009  \n",
    "Prepared:  \n",
    "A.W. Spaink  \n",
    "Checked:  \n",
    "O. Mester  \n",
    "Date  \n",
    "17.03.2009  \n",
    "Fokker AESP / Airbus   \n",
    "\n",
    "# Summary\n",
    "A method is presented to compute the compressive crippling strength of short metallic sections.  \n",
    "Key words: compression, crippling, metallic, section, short column  \n",
    "# References\n",
    "[1] A.W. Spaink : Examination of the procedure used at Fokker for calculating allowable  \n",
    "compressive loads of short sections. Fokker Report S-139 , Dec. 1976.  \n",
    "[2] HSB 45111-01  \n",
    "\n",
    "# 1 Introduction  \n",
    "This data sheet presents a method for determining the compressive strength of short metallic sections  \n",
    "of arbitrary shape in compression, which fail after local buckling (crippling strength). The method is  \n",
    "an empirical method, taking into account the post-buckling load increase, and has been checked with  \n",
    "results of compression tests on a large number of short columns of various shapes and metallic  \n",
    "materials.  \n",
    "Using the presented calculation method, the short column is idealized as a number of flat rectangular  \n",
    "plate elements of constant thickness, which are simply supported along their unloaded sides. The  \n",
    "crippling load of the section is defined as the sum of the crippling loads of the plate elements.  \n",
    "The method is valid if only local compressive buckling of the section elements occurs. Other buckling  \n",
    "modes, such as column buckling or torsional buckling can cause a lower compressive strength.  \n",
    "The crippling strength of a short section is calculated as a function of the cross-section and the  \n",
    "material properties rather than its length.  \n",
    "Beyond the short-column range (slenderness ratio > 20) column buckling shall be accounted for. For  \n",
    "most short columns the possible effect of torsional buckling will be negligible.  \n",
    "<u>Note</u>  \n",
    "To make the presented method applicable for all metallic materials, the tensile yield stress and the  \n",
    "modulus of elasticity in compression are to be used.  \n",
    "\n",
    "# 2 Symbols\n",
    "symbol | unit |  description\n",
    "---|---|---\n",
    "ai  | mm |  outside width of section element i\n",
    "bi  | mm |  average width of section element i ( = Ai / ti )\n",
    "ki  | - |  buckling factor of section element i, acc. to ref. [2]\n",
    "r |  mm  | radius\n",
    "ti  | mm  | thickness of section element i\n",
    "xi  | -  | buckling parameter for section element i\n",
    "yi  | -  | dimensionless crippling strength of section element i = σ crip,i / R p0.2\n",
    "Ai  | mm2  | cross-sectional area of section element i\n",
    "Ec  | MPa  | modulus of elasticity in compression\n",
    "Fcrip |  N  | crippling load of section (compressive strength)\n",
    "K i  | -  | buckling factor for section element i\n",
    "L  | mm  | length\n",
    "Rc0.2 |  MPa  | 0.2 % compressive yield strength\n",
    "R p0.2 |  MPa  | 0.2 % tensile yield strength\n",
    "ν  | -  | Poisson’s ratio\n",
    "σ  crip,i |  MPa |  crippling strength of section element i\n",
    "\n",
    "# 3 Analysis\n",
    "# 3.1 Average width of section element\n",
    "The average width of the element, bi , follows from: bi = Ai / ti and is computed as given below.\n",
    "\n",
    "<img src=\"../docs\\source\\_static\\HSB_53211_01_fig_1_Average_width_of_section_elm.PNG\" alt=\"Average width of section element\" width=\"500\"/>\n"
   ]
  },
  {
   "cell_type": "markdown",
   "metadata": {},
   "source": []
  },
  {
   "cell_type": "code",
   "execution_count": 5,
   "metadata": {},
   "outputs": [],
   "source": [
    "from pylantir.pyelbe.pyelbe import Profile"
   ]
  },
  {
   "cell_type": "code",
   "execution_count": 6,
   "metadata": {},
   "outputs": [
    {
     "data": {
      "text/plain": [
       "pylantir.pyelbe.pyelbe.Profile"
      ]
     },
     "execution_count": 6,
     "metadata": {},
     "output_type": "execute_result"
    }
   ],
   "source": [
    "#Profile options:\n",
    "#L, C, T, I\n",
    "# sheet, extruded\n",
    "\n"
   ]
  },
  {
   "cell_type": "code",
   "execution_count": null,
   "metadata": {},
   "outputs": [],
   "source": []
  }
 ],
 "metadata": {
  "kernelspec": {
   "display_name": "Python 3.9.7 ('pagtools')",
   "language": "python",
   "name": "python3"
  },
  "language_info": {
   "codemirror_mode": {
    "name": "ipython",
    "version": 3
   },
   "file_extension": ".py",
   "mimetype": "text/x-python",
   "name": "python",
   "nbconvert_exporter": "python",
   "pygments_lexer": "ipython3",
   "version": "3.9.7"
  },
  "orig_nbformat": 4,
  "vscode": {
   "interpreter": {
    "hash": "b707436c64063d0597a34f5110470eed9495c60de866f818160afe7fb2faf969"
   }
  }
 },
 "nbformat": 4,
 "nbformat_minor": 2
}
