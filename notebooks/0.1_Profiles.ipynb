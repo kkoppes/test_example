{
 "cells": [
  {
   "cell_type": "markdown",
   "metadata": {},
   "source": [
    "# Subel"
   ]
  },
  {
   "cell_type": "code",
   "execution_count": 1,
   "metadata": {},
   "outputs": [],
   "source": [
    "import sys\n",
    "sys.path.append('..')"
   ]
  },
  {
   "cell_type": "code",
   "execution_count": 2,
   "metadata": {},
   "outputs": [],
   "source": [
    "from pylantir.pyelbe.pyelbe import SubEl, Rect, Profile\n",
    " "
   ]
  },
  {
   "cell_type": "code",
   "execution_count": 3,
   "metadata": {},
   "outputs": [
    {
     "name": "stdout",
     "output_type": "stream",
     "text": [
      "test.pos_x = 1\n",
      "test.pos_y = 1\n",
      "test.position = (1, 1)\n",
      "test.material = None\n",
      "test.pos_x = 1\n",
      "test.pos_y = 1\n",
      "test.position = (1, 1)\n",
      "test.material = 'test'\n"
     ]
    }
   ],
   "source": [
    "test = SubEl(sub_type=\"rect\", pos_x=1, pos_y=1)\n",
    "\n",
    "print(f\"{test.pos_x = }\")\n",
    "print(f\"{test.pos_y = }\")\n",
    "\n",
    "print(f\"{test.position = }\")\n",
    "\n",
    "print(f\"{test.material = }\")\n",
    "\n",
    "test = SubEl(sub_type=\"rect\", pos_x=1, pos_y=1, material=\"test\")\n",
    "\n",
    "print(f\"{test.pos_x = }\")\n",
    "print(f\"{test.pos_y = }\")\n",
    "\n",
    "print(f\"{test.position = }\")\n",
    "\n",
    "print(f\"{test.material = }\")"
   ]
  },
  {
   "cell_type": "code",
   "execution_count": 4,
   "metadata": {},
   "outputs": [],
   "source": [
    "rect1 = Rect(sub_type=\"rect\" , width=10, height=40, pos_x=0, pos_y=0, material=\"test\")\n",
    "rect2 = Rect(sub_type=\"rect\" , width=20, height=2, pos_x=10, pos_y=20, material=\"test\")\n",
    "rect3 = Rect(sub_type=\"rect\" , width=20, height=2, pos_x=-10, pos_y=-20, material=\"test\")\n"
   ]
  },
  {
   "cell_type": "code",
   "execution_count": 5,
   "metadata": {},
   "outputs": [
    {
     "name": "stderr",
     "output_type": "stream",
     "text": [
      "2022-10-13 09:08:28,253 - pylantir.pyelbe.pyelbe - INFO - No material defined for sub-elements\n"
     ]
    }
   ],
   "source": [
    "prof = Profile(subel_list=[rect1, rect2, rect3])"
   ]
  },
  {
   "cell_type": "code",
   "execution_count": 6,
   "metadata": {},
   "outputs": [
    {
     "data": {
      "text/plain": [
       "{'subel_list': [Rect(sub_type='rect', position=(0, 0), pos_x=0, pos_y=0, fc='tab=blue', material='test'),\n",
       "  Rect(sub_type='rect', position=(10, 20), pos_x=10, pos_y=20, fc='tab=blue', material='test'),\n",
       "  Rect(sub_type='rect', position=(-10, -20), pos_x=-10, pos_y=-20, fc='tab=blue', material='test')],\n",
       " 'area': 480.0,\n",
       " 'x_cg': 5.83,\n",
       " 'y_cg': 16.83,\n",
       " 'Ix': 109426,\n",
       " 'Iy': 15666}"
      ]
     },
     "execution_count": 6,
     "metadata": {},
     "output_type": "execute_result"
    }
   ],
   "source": [
    "prof.__dict__"
   ]
  },
  {
   "cell_type": "code",
   "execution_count": 10,
   "metadata": {},
   "outputs": [
    {
     "name": "stderr",
     "output_type": "stream",
     "text": [
      "2022-10-13 09:08:35,291 - pylantir.pyelbe.pyelbe - INFO - No material defined for sub-elements\n"
     ]
    }
   ],
   "source": [
    "from pylantir.pyelbe.pyelbe import SubEl, Rect, Profile, LProfile\n",
    "\n",
    "h_1_2 = 1\n",
    "b_1_1 = 2\n",
    "r = 3\n",
    "t = 4\n",
    "\n",
    "lprof = LProfile(b=b_1_1, h=h_1_2, t_fx=t, r=r, profile_type=\"bended\")\n",
    "\n",
    "l_profile = lprof.get_profile()"
   ]
  },
  {
   "cell_type": "code",
   "execution_count": 11,
   "metadata": {},
   "outputs": [
    {
     "data": {
      "text/plain": [
       "{'b': 2,\n",
       " 'h': 1,\n",
       " 'profile_type': 'bended',\n",
       " 't_fx': 4,\n",
       " 't_fy': 4,\n",
       " 'r': 3,\n",
       " 'mat': 'dummy',\n",
       " 'x_orig': 0,\n",
       " 'y_orig': 0,\n",
       " 'subel_list': [Rect(sub_type='Rect', position=(2.0, 4.5), pos_x=2.0, pos_y=4.5, fc='tab=blue', material='dummy'),\n",
       "  Rect(sub_type='Rect', position=(2.0, 4.0), pos_x=2.0, pos_y=4.0, fc='tab=blue', material='dummy'),\n",
       "  QArc(sub_type='QArc', position=(7, 7), pos_x=7, pos_y=7, fc='tab=blue', material='dummy')],\n",
       " 'profile': Profile(subel_list=[Rect(sub_type='Rect', position=(2.0, 4.5), pos_x=2.0, pos_y=4.5, fc='tab=blue', material='dummy'), Rect(sub_type='Rect', position=(2.0, 4.0), pos_x=2.0, pos_y=4.0, fc='tab=blue', material='dummy'), QArc(sub_type='QArc', position=(7, 7), pos_x=7, pos_y=7, fc='tab=blue', material='dummy')])}"
      ]
     },
     "execution_count": 11,
     "metadata": {},
     "output_type": "execute_result"
    }
   ],
   "source": [
    "lprof.__dict__"
   ]
  },
  {
   "cell_type": "code",
   "execution_count": 9,
   "metadata": {},
   "outputs": [
    {
     "data": {
      "text/plain": [
       "6782"
      ]
     },
     "execution_count": 9,
     "metadata": {},
     "output_type": "execute_result"
    }
   ],
   "source": [
    "lprof.profile.Ix\n"
   ]
  },
  {
   "cell_type": "markdown",
   "metadata": {},
   "source": [
    "\n",
    "<img src=\"../docs\\source\\_static\\HSB_53211_01_fig_1_Average_width_of_section_elm.PNG\" alt=\"Average width of section element\" width=\"800\"/>"
   ]
  },
  {
   "cell_type": "markdown",
   "metadata": {},
   "source": []
  },
  {
   "cell_type": "markdown",
   "metadata": {},
   "source": []
  }
 ],
 "metadata": {
  "kernelspec": {
   "display_name": "Python 3.9.7 ('pagtools')",
   "language": "python",
   "name": "python3"
  },
  "language_info": {
   "codemirror_mode": {
    "name": "ipython",
    "version": 3
   },
   "file_extension": ".py",
   "mimetype": "text/x-python",
   "name": "python",
   "nbconvert_exporter": "python",
   "pygments_lexer": "ipython3",
   "version": "3.10.4"
  },
  "orig_nbformat": 4,
  "vscode": {
   "interpreter": {
    "hash": "b707436c64063d0597a34f5110470eed9495c60de866f818160afe7fb2faf969"
   }
  }
 },
 "nbformat": 4,
 "nbformat_minor": 2
}
