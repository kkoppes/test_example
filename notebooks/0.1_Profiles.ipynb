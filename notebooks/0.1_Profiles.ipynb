{
 "cells": [
  {
   "cell_type": "markdown",
   "metadata": {},
   "source": [
    "# Subel"
   ]
  },
  {
   "cell_type": "code",
   "execution_count": 1,
   "metadata": {},
   "outputs": [],
   "source": [
    "import sys\n",
    "sys.path.append('..')"
   ]
  },
  {
   "cell_type": "code",
   "execution_count": 2,
   "metadata": {},
   "outputs": [],
   "source": [
    "from pylantir.pyelbe.profiles import SubEl, Rect, Profile\n",
    " "
   ]
  },
  {
   "cell_type": "code",
   "execution_count": 3,
   "metadata": {},
   "outputs": [
    {
     "name": "stdout",
     "output_type": "stream",
     "text": [
      "test.pos_x = 1\n",
      "test.pos_y = 1\n",
      "test.position = (1, 1)\n",
      "test.material = None\n",
      "test.pos_x = 1\n",
      "test.pos_y = 1\n",
      "test.position = (1, 1)\n",
      "test.material = 'test'\n"
     ]
    }
   ],
   "source": [
    "test = SubEl(sub_type=\"rect\", pos_x=1, pos_y=1)\n",
    "\n",
    "print(f\"{test.pos_x = }\")\n",
    "print(f\"{test.pos_y = }\")\n",
    "\n",
    "print(f\"{test.position = }\")\n",
    "\n",
    "print(f\"{test.material = }\")\n",
    "\n",
    "test = SubEl(sub_type=\"rect\", pos_x=1, pos_y=1, material=\"test\")\n",
    "\n",
    "print(f\"{test.pos_x = }\")\n",
    "print(f\"{test.pos_y = }\")\n",
    "\n",
    "print(f\"{test.position = }\")\n",
    "\n",
    "print(f\"{test.material = }\")"
   ]
  },
  {
   "cell_type": "code",
   "execution_count": 4,
   "metadata": {},
   "outputs": [
    {
     "name": "stderr",
     "output_type": "stream",
     "text": [
      "2022-10-26 11:20:26,601 - pylantir.pyelbe.geometry_helpers - DEBUG - Angle: 0 °\n",
      "2022-10-26 11:20:26,603 - pylantir.pyelbe.geometry_helpers - DEBUG - angle: 0.0 rad\n",
      "2022-10-26 11:20:26,606 - pylantir.pyelbe.geometry_helpers - DEBUG - C: [5.0, 20.0]\n",
      "2022-10-26 11:20:26,608 - pylantir.pyelbe.geometry_helpers - DEBUG - C: [ 5. 20.]\n",
      "2022-10-26 11:20:26,611 - pylantir.pyelbe.geometry_helpers - DEBUG - C: C(Cx=5.0, Cy=20.0)\n",
      "2022-10-26 11:20:26,613 - pylantir.pyelbe.geometry_helpers - DEBUG - Ix: 53333.333333333336\n",
      "2022-10-26 11:20:26,614 - pylantir.pyelbe.geometry_helpers - DEBUG - Iy: 3333.3333333333335\n",
      "2022-10-26 11:20:26,616 - pylantir.pyelbe.geometry_helpers - DEBUG - Angle: 0 °\n",
      "2022-10-26 11:20:26,617 - pylantir.pyelbe.geometry_helpers - DEBUG - angle: 0.0 rad\n",
      "2022-10-26 11:20:26,619 - pylantir.pyelbe.geometry_helpers - DEBUG - C: [10.0, 1.0]\n",
      "2022-10-26 11:20:26,621 - pylantir.pyelbe.geometry_helpers - DEBUG - C: [10.  1.]\n",
      "2022-10-26 11:20:26,626 - pylantir.pyelbe.geometry_helpers - DEBUG - C: C(Cx=10.0, Cy=1.0)\n",
      "2022-10-26 11:20:26,630 - pylantir.pyelbe.geometry_helpers - DEBUG - Ix: 13.333333333333334\n",
      "2022-10-26 11:20:26,632 - pylantir.pyelbe.geometry_helpers - DEBUG - Iy: 1333.3333333333333\n",
      "2022-10-26 11:20:26,635 - pylantir.pyelbe.geometry_helpers - DEBUG - Angle: 0 °\n",
      "2022-10-26 11:20:26,637 - pylantir.pyelbe.geometry_helpers - DEBUG - angle: 0.0 rad\n",
      "2022-10-26 11:20:26,638 - pylantir.pyelbe.geometry_helpers - DEBUG - C: [10.0, 1.0]\n",
      "2022-10-26 11:20:26,641 - pylantir.pyelbe.geometry_helpers - DEBUG - C: [10.  1.]\n",
      "2022-10-26 11:20:26,644 - pylantir.pyelbe.geometry_helpers - DEBUG - C: C(Cx=10.0, Cy=1.0)\n",
      "2022-10-26 11:20:26,645 - pylantir.pyelbe.geometry_helpers - DEBUG - Ix: 13.333333333333334\n",
      "2022-10-26 11:20:26,646 - pylantir.pyelbe.geometry_helpers - DEBUG - Iy: 1333.3333333333333\n"
     ]
    }
   ],
   "source": [
    "rect1 = Rect(sub_type=\"rect\" , width=10, height=40, pos_x=0, pos_y=0, material=\"test\")\n",
    "rect2 = Rect(sub_type=\"rect\" , width=20, height=2, pos_x=10, pos_y=20, material=\"test\")\n",
    "rect3 = Rect(sub_type=\"rect\" , width=20, height=2, pos_x=-10, pos_y=-20, material=\"test\")\n"
   ]
  },
  {
   "cell_type": "code",
   "execution_count": 5,
   "metadata": {},
   "outputs": [],
   "source": [
    "rect1 = Rect(sub_type=\"rect\" , width=1, height=2, pos_x=0, pos_y=-1, material=\"test\")\n"
   ]
  },
  {
   "cell_type": "code",
   "execution_count": 6,
   "metadata": {},
   "outputs": [],
   "source": [
    "rect4 = Rect(sub_type=\"rect\" , width=3, height=2, pos_x=-1.5, pos_y=-1, material=\"test\")"
   ]
  },
  {
   "cell_type": "code",
   "execution_count": 7,
   "metadata": {},
   "outputs": [
    {
     "data": {
      "text/plain": [
       "{'name': None,\n",
       " 'sub_type': 'rect',\n",
       " 'position': (-1.5, -1),\n",
       " 'pos_x': -1.5,\n",
       " 'pos_y': -1,\n",
       " 'fc': 'tab=blue',\n",
       " 'mat_name': None,\n",
       " 'mat_spec': None,\n",
       " 'material': 'test',\n",
       " 'width': 3,\n",
       " 'height': 2,\n",
       " 'angle': 0,\n",
       " 'xcg': 0.0,\n",
       " 'ycg': 0.0,\n",
       " 'area': 6,\n",
       " 'Ixx': 2.0,\n",
       " 'Iyy': 4.5,\n",
       " 'alpha': 0.0}"
      ]
     },
     "execution_count": 7,
     "metadata": {},
     "output_type": "execute_result"
    }
   ],
   "source": [
    "rect4.__dict__"
   ]
  },
  {
   "cell_type": "code",
   "execution_count": 18,
   "metadata": {},
   "outputs": [],
   "source": [
    "rect1 = Rect(sub_type=\"rect\" , width=1, height=2, pos_x=-1.5, pos_y=-1, material=\"test\")\n",
    "rect2 = Rect(sub_type=\"rect\" , width=1, height=2, pos_x=-0.5, pos_y=-1, material=\"test\")\n",
    "rect3 = Rect(sub_type=\"rect\" , width=1, height=2, pos_x=0.5, pos_y=-1, material=\"test\")"
   ]
  },
  {
   "cell_type": "code",
   "execution_count": 19,
   "metadata": {},
   "outputs": [],
   "source": [
    "profile = Profile([rect1, rect2, rect3], name=\"test\")"
   ]
  },
  {
   "cell_type": "code",
   "execution_count": 20,
   "metadata": {},
   "outputs": [
    {
     "name": "stdout",
     "output_type": "stream",
     "text": [
      "profile.x_cg =0.0\n",
      "profile.y_cg =0.0\n"
     ]
    }
   ],
   "source": [
    "print(f\"{profile.x_cg =}\")\n",
    "print(f\"{profile.y_cg =}\")"
   ]
  },
  {
   "cell_type": "code",
   "execution_count": 21,
   "metadata": {},
   "outputs": [
    {
     "name": "stdout",
     "output_type": "stream",
     "text": [
      "rect1.Ixx = 0.6666666666666666\n",
      "rect1.area = 2\n",
      "rect1.xcg = -1.0\n",
      "rect1.ycg = 0.0\n",
      "(rect1.Ixx + (rect1.area * (rect1.ycg -profile.y_cg)**2)) = 0.6666666666666666\n"
     ]
    }
   ],
   "source": [
    "print(f\"{rect1.Ixx = }\")\n",
    "print(f\"{rect1.area = }\")\n",
    "print(f\"{rect1.xcg = }\")\n",
    "print(f\"{rect1.ycg = }\")\n",
    "print(f\"{(rect1.Ixx + (rect1.area * (rect1.ycg -profile.y_cg)**2)) = }\")\n"
   ]
  },
  {
   "cell_type": "code",
   "execution_count": 22,
   "metadata": {},
   "outputs": [
    {
     "name": "stdout",
     "output_type": "stream",
     "text": [
      "r.Ixx = 0.6666666666666666\n",
      "r.area = 2\n",
      "r.xcg = -1.0\n",
      "r.ycg = 0.0\n",
      "(r.Ixx + (r.area * (r.ycg -profile.y_cg)**2)) = 0.6666666666666666\n",
      "r.Ixx = 0.6666666666666666\n",
      "r.area = 2\n",
      "r.xcg = 0.0\n",
      "r.ycg = 0.0\n",
      "(r.Ixx + (r.area * (r.ycg -profile.y_cg)**2)) = 0.6666666666666666\n",
      "r.Ixx = 0.6666666666666666\n",
      "r.area = 2\n",
      "r.xcg = 1.0\n",
      "r.ycg = 0.0\n",
      "(r.Ixx + (r.area * (r.ycg -profile.y_cg)**2)) = 0.6666666666666666\n"
     ]
    }
   ],
   "source": [
    "for r in [rect1,rect2,rect3]:\n",
    "    print(f\"{r.Ixx = }\")\n",
    "    print(f\"{r.area = }\")\n",
    "    print(f\"{r.xcg = }\")\n",
    "    print(f\"{r.ycg = }\")\n",
    "    print(f\"{(r.Ixx + (r.area * (r.ycg -profile.y_cg)**2)) = }\")"
   ]
  },
  {
   "cell_type": "code",
   "execution_count": 23,
   "metadata": {},
   "outputs": [
    {
     "name": "stdout",
     "output_type": "stream",
     "text": [
      "r.Iyy = 0.16666666666666666\n",
      "r.area = 2\n",
      "r.xcg = -1.0\n",
      "(r.Iyy + (r.area * (r.xcg -profile.x_cg)**2)) = 2.1666666666666665\n",
      "r.Iyy = 0.16666666666666666\n",
      "r.area = 2\n",
      "r.xcg = 0.0\n",
      "(r.Iyy + (r.area * (r.xcg -profile.x_cg)**2)) = 0.16666666666666666\n",
      "r.Iyy = 0.16666666666666666\n",
      "r.area = 2\n",
      "r.xcg = 1.0\n",
      "(r.Iyy + (r.area * (r.xcg -profile.x_cg)**2)) = 2.1666666666666665\n"
     ]
    }
   ],
   "source": [
    "for r in [rect1,rect2,rect3]:\n",
    "    print(f\"{r.Iyy = }\")\n",
    "    print(f\"{r.area = }\")\n",
    "    print(f\"{r.xcg = }\")\n",
    "    print(f\"{(r.Iyy + (r.area * (r.xcg -profile.x_cg)**2)) = }\")"
   ]
  },
  {
   "cell_type": "code",
   "execution_count": 5,
   "metadata": {},
   "outputs": [
    {
     "ename": "NameError",
     "evalue": "name 'arc' is not defined",
     "output_type": "error",
     "traceback": [
      "\u001b[1;31m---------------------------------------------------------------------------\u001b[0m",
      "\u001b[1;31mNameError\u001b[0m                                 Traceback (most recent call last)",
      "\u001b[1;32mc:\\Users\\krisk\\Documents\\Code_Snippets\\Python\\test\\notebooks\\0.1_Profiles.ipynb Cell 15\u001b[0m in \u001b[0;36m<cell line: 1>\u001b[1;34m()\u001b[0m\n\u001b[1;32m----> <a href='vscode-notebook-cell:/c%3A/Users/krisk/Documents/Code_Snippets/Python/test/notebooks/0.1_Profiles.ipynb#X32sZmlsZQ%3D%3D?line=0'>1</a>\u001b[0m arc\n",
      "\u001b[1;31mNameError\u001b[0m: name 'arc' is not defined"
     ]
    }
   ],
   "source": []
  },
  {
   "cell_type": "code",
   "execution_count": 17,
   "metadata": {},
   "outputs": [],
   "source": [
    "# import Arc\n",
    "from pylantir.pyelbe.profiles import Arc\n",
    "\n",
    "arc_1 = Arc(outer_radius=2, inner_radius=1, angle=0, pos_x=0, pos_y=0, material=\"test\")"
   ]
  },
  {
   "cell_type": "code",
   "execution_count": 18,
   "metadata": {},
   "outputs": [
    {
     "data": {
      "text/plain": [
       "1.269286852796167"
      ]
     },
     "execution_count": 18,
     "metadata": {},
     "output_type": "execute_result"
    }
   ],
   "source": [
    "arc_1.Ixx"
   ]
  },
  {
   "cell_type": "code",
   "execution_count": 24,
   "metadata": {},
   "outputs": [
    {
     "data": {
      "text/plain": [
       "{'subel_list': [Rect(name=None, sub_type='rect', position=(-1.5, -1), pos_x=-1.5, pos_y=-1, fc='tab=blue', mat_name=None, mat_spec=None, material='test'),\n",
       "  Rect(name=None, sub_type='rect', position=(-0.5, -1), pos_x=-0.5, pos_y=-1, fc='tab=blue', mat_name=None, mat_spec=None, material='test'),\n",
       "  Rect(name=None, sub_type='rect', position=(0.5, -1), pos_x=0.5, pos_y=-1, fc='tab=blue', mat_name=None, mat_spec=None, material='test')],\n",
       " 'name': 'test',\n",
       " 'area': 6.0,\n",
       " 'x_cg': 0.0,\n",
       " 'y_cg': 0.0,\n",
       " 'Ixx': 2,\n",
       " 'Iyy': 4,\n",
       " 'mat_list': ['test', 'test', 'test'],\n",
       " 'EA': 0,\n",
       " 'EIx': 0,\n",
       " 'EIy': 0}"
      ]
     },
     "execution_count": 24,
     "metadata": {},
     "output_type": "execute_result"
    }
   ],
   "source": [
    "profile.__dict__"
   ]
  },
  {
   "cell_type": "code",
   "execution_count": 14,
   "metadata": {},
   "outputs": [],
   "source": [
    "prof = Profile(subel_list=[rect1, rect2, rect3])"
   ]
  },
  {
   "cell_type": "code",
   "execution_count": 15,
   "metadata": {},
   "outputs": [
    {
     "data": {
      "text/plain": [
       "{'subel_list': [Rect(name=None, sub_type='rect', position=(-1.5, -1), pos_x=-1.5, pos_y=-1, fc='tab=blue', mat_name=None, mat_spec=None, material='test'),\n",
       "  Rect(name=None, sub_type='rect', position=(-0.5, -1), pos_x=-0.5, pos_y=-1, fc='tab=blue', mat_name=None, mat_spec=None, material='test'),\n",
       "  Rect(name=None, sub_type='rect', position=(0.5, -1), pos_x=0.5, pos_y=-1, fc='tab=blue', mat_name=None, mat_spec=None, material='test')],\n",
       " 'name': 'Profile',\n",
       " 'area': 6.0,\n",
       " 'x_cg': 0.0,\n",
       " 'y_cg': 0.0,\n",
       " 'Ixx': 2,\n",
       " 'Iyy': 4,\n",
       " 'mat_list': ['test', 'test', 'test'],\n",
       " 'EA': 0,\n",
       " 'EIx': 0,\n",
       " 'EIy': 0}"
      ]
     },
     "execution_count": 15,
     "metadata": {},
     "output_type": "execute_result"
    }
   ],
   "source": [
    "prof.__dict__"
   ]
  },
  {
   "cell_type": "code",
   "execution_count": 16,
   "metadata": {},
   "outputs": [
    {
     "ename": "TypeError",
     "evalue": "LProfile.__init__() got an unexpected keyword argument 'r'",
     "output_type": "error",
     "traceback": [
      "\u001b[1;31m---------------------------------------------------------------------------\u001b[0m",
      "\u001b[1;31mTypeError\u001b[0m                                 Traceback (most recent call last)",
      "\u001b[1;32mc:\\Users\\krisk\\Documents\\Code_Snippets\\Python\\test\\notebooks\\0.1_Profiles.ipynb Cell 18\u001b[0m in \u001b[0;36m<cell line: 9>\u001b[1;34m()\u001b[0m\n\u001b[0;32m      <a href='vscode-notebook-cell:/c%3A/Users/krisk/Documents/Code_Snippets/Python/test/notebooks/0.1_Profiles.ipynb#X10sZmlsZQ%3D%3D?line=5'>6</a>\u001b[0m r \u001b[39m=\u001b[39m \u001b[39m3\u001b[39m\n\u001b[0;32m      <a href='vscode-notebook-cell:/c%3A/Users/krisk/Documents/Code_Snippets/Python/test/notebooks/0.1_Profiles.ipynb#X10sZmlsZQ%3D%3D?line=6'>7</a>\u001b[0m t \u001b[39m=\u001b[39m \u001b[39m4\u001b[39m\n\u001b[1;32m----> <a href='vscode-notebook-cell:/c%3A/Users/krisk/Documents/Code_Snippets/Python/test/notebooks/0.1_Profiles.ipynb#X10sZmlsZQ%3D%3D?line=8'>9</a>\u001b[0m lprof \u001b[39m=\u001b[39m LProfile(b\u001b[39m=\u001b[39;49mb_1_1, h\u001b[39m=\u001b[39;49mh_1_2, t_fx\u001b[39m=\u001b[39;49mt, r\u001b[39m=\u001b[39;49mr, profile_type\u001b[39m=\u001b[39;49m\u001b[39m\"\u001b[39;49m\u001b[39mbended\u001b[39;49m\u001b[39m\"\u001b[39;49m)\n\u001b[0;32m     <a href='vscode-notebook-cell:/c%3A/Users/krisk/Documents/Code_Snippets/Python/test/notebooks/0.1_Profiles.ipynb#X10sZmlsZQ%3D%3D?line=10'>11</a>\u001b[0m l_profile \u001b[39m=\u001b[39m lprof\u001b[39m.\u001b[39mget_profile()\n",
      "\u001b[1;31mTypeError\u001b[0m: LProfile.__init__() got an unexpected keyword argument 'r'"
     ]
    }
   ],
   "source": [
    "from pylantir.pyelbe.profiles import SubEl, Rect, Profile\n",
    "from pylantir.pyelbe.hsb.hsb_profiles import LProfile\n",
    "\n",
    "h_1_2 = 1\n",
    "b_1_1 = 2\n",
    "r = 3\n",
    "t = 4\n",
    "\n",
    "lprof = LProfile(b=b_1_1, h=h_1_2, t_fx=t, r=r, profile_type=\"bended\")\n",
    "\n",
    "l_profile = lprof.get_profile()"
   ]
  },
  {
   "cell_type": "code",
   "execution_count": null,
   "metadata": {},
   "outputs": [
    {
     "data": {
      "text/plain": [
       "{'b': 2,\n",
       " 'h': 1,\n",
       " 'profile_type': 'bended',\n",
       " 't_fx': 4,\n",
       " 't_fy': 4,\n",
       " 'r': 3,\n",
       " 'mat': 'dummy',\n",
       " 'x_orig': 0,\n",
       " 'y_orig': 0,\n",
       " 'subel_list': [Rect(sub_type='Rect', position=(2.0, 4.5), pos_x=2.0, pos_y=4.5, fc='tab=blue', material='dummy'),\n",
       "  Rect(sub_type='Rect', position=(2.0, 4.0), pos_x=2.0, pos_y=4.0, fc='tab=blue', material='dummy'),\n",
       "  QArc(sub_type='QArc', position=(7, 7), pos_x=7, pos_y=7, fc='tab=blue', material='dummy')],\n",
       " 'profile': Profile(subel_list=[Rect(sub_type='Rect', position=(2.0, 4.5), pos_x=2.0, pos_y=4.5, fc='tab=blue', material='dummy'), Rect(sub_type='Rect', position=(2.0, 4.0), pos_x=2.0, pos_y=4.0, fc='tab=blue', material='dummy'), QArc(sub_type='QArc', position=(7, 7), pos_x=7, pos_y=7, fc='tab=blue', material='dummy')])}"
      ]
     },
     "execution_count": 11,
     "metadata": {},
     "output_type": "execute_result"
    }
   ],
   "source": [
    "lprof.__dict__"
   ]
  },
  {
   "cell_type": "code",
   "execution_count": null,
   "metadata": {},
   "outputs": [
    {
     "data": {
      "text/plain": [
       "6782"
      ]
     },
     "execution_count": 9,
     "metadata": {},
     "output_type": "execute_result"
    }
   ],
   "source": [
    "lprof.profile.Ix\n"
   ]
  },
  {
   "cell_type": "markdown",
   "metadata": {},
   "source": [
    "\n",
    "<img src=\"../docs\\source\\_static\\HSB_53211_01_fig_1_Average_width_of_section_elm.PNG\" alt=\"Average width of section element\" width=\"800\"/>"
   ]
  },
  {
   "cell_type": "markdown",
   "metadata": {},
   "source": []
  },
  {
   "cell_type": "markdown",
   "metadata": {},
   "source": []
  }
 ],
 "metadata": {
  "kernelspec": {
   "display_name": "Python 3.9.7 ('pagtools')",
   "language": "python",
   "name": "python3"
  },
  "language_info": {
   "codemirror_mode": {
    "name": "ipython",
    "version": 3
   },
   "file_extension": ".py",
   "mimetype": "text/x-python",
   "name": "python",
   "nbconvert_exporter": "python",
   "pygments_lexer": "ipython3",
   "version": "3.10.4"
  },
  "orig_nbformat": 4,
  "vscode": {
   "interpreter": {
    "hash": "b707436c64063d0597a34f5110470eed9495c60de866f818160afe7fb2faf969"
   }
  }
 },
 "nbformat": 4,
 "nbformat_minor": 2
}
