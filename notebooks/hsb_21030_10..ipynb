{
 "cells": [
  {
   "cell_type": "code",
   "execution_count": 28,
   "metadata": {},
   "outputs": [],
   "source": [
    "import sys\n",
    "sys.path.append('..')"
   ]
  },
  {
   "cell_type": "markdown",
   "metadata": {},
   "source": [
    "# HSB 21030-10 Comparison with pyelbe riv_field\n"
   ]
  },
  {
   "cell_type": "markdown",
   "metadata": {},
   "source": [
    "test\n"
   ]
  },
  {
   "cell_type": "code",
   "execution_count": 29,
   "metadata": {},
   "outputs": [],
   "source": [
    "from pylantir.pyelbe.hsb.hsb_21030_10 import (\n",
    "    moment_x_reference,\n",
    "    moment_x_reference_markdown,\n",
    "    moment_y_reference,\n",
    "    moment_y_reference_markdown,\n",
    "    ReferencePoint,\n",
    "    Forces,\n",
    "    Moments,\n",
    "    Fastener,\n",
    "    FastenerGroup,\n",
    "    \n",
    "    Hsb2103001,\n",
    ")\n"
   ]
  },
  {
   "cell_type": "code",
   "execution_count": 30,
   "metadata": {},
   "outputs": [
    {
     "name": "stdout",
     "output_type": "stream",
     "text": [
      "\n",
      "    Calculates the moment of the force about the point of application in the x direction.\n",
      "    NOTE: Changed slightly from the HSB to insert absolute coordinates for both applied and\n",
      "    reference points\n",
      "\n",
      "    :param moment_x_p: moment of the force about the point of application in the x direction\n",
      "    :type moment_x_p: float\n",
      "    :param force_y: force in the y direction\n",
      "    :param force_y: float\n",
      "    :param force_z: force in the z direction\n",
      "    :param force_z: float\n",
      "    :param z_coord_p: z coordinate of the point of application of the force\n",
      "    :param z_coord_p: float\n",
      "    :param y_coord_p: y coordinate of the point of application of the force\n",
      "    :param y_coord_p: float\n",
      "    :param y_coord_u: y coordinate of the point of reference of the force\n",
      "    :param y_coord_u: float\n",
      "    :return moment_mxu: moment of the force about the point of application in the x direction\n",
      "    :rtype: float\n",
      "\n",
      "    \n"
     ]
    }
   ],
   "source": [
    "print(moment_x_reference.__doc__)"
   ]
  },
  {
   "cell_type": "code",
   "execution_count": 31,
   "metadata": {},
   "outputs": [
    {
     "name": "stdout",
     "output_type": "stream",
     "text": [
      "moment_x_ref = 10.0\n"
     ]
    }
   ],
   "source": [
    "moment_x_p = 10\n",
    "force_y = 10\n",
    "force_z = 10\n",
    "z_coord_p = 10\n",
    "y_coord_p = 10\n",
    "moment_x_ref = moment_x_reference(moment_x_p, force_y, force_z, z_coord_p, y_coord_p)\n",
    "print(f\"{moment_x_ref = }\")"
   ]
  },
  {
   "cell_type": "code",
   "execution_count": 32,
   "metadata": {},
   "outputs": [],
   "source": [
    "# show latex from string\n",
    "from IPython.display import display, Markdown\n",
    "\n"
   ]
  },
  {
   "cell_type": "code",
   "execution_count": 33,
   "metadata": {},
   "outputs": [],
   "source": [
    "md, md_f = moment_x_reference_markdown(moment_x_p, force_y, force_z, z_coord_p, y_coord_p)"
   ]
  },
  {
   "cell_type": "code",
   "execution_count": 34,
   "metadata": {},
   "outputs": [
    {
     "data": {
      "text/markdown": [
       "$$\n",
       "    M_{xU} = M_{xP} - F_{y}\\cdot (z_{P} - z_{U}) + F_{z}\\cdot (y_{P} - y_{U})\n",
       "    $$\n",
       "\n",
       "    "
      ],
      "text/plain": [
       "<IPython.core.display.Markdown object>"
      ]
     },
     "metadata": {},
     "output_type": "display_data"
    }
   ],
   "source": [
    "display(Markdown(md))"
   ]
  },
  {
   "cell_type": "code",
   "execution_count": 35,
   "metadata": {},
   "outputs": [
    {
     "data": {
      "text/markdown": [
       "$$10.0 = 10 - 10 \\cdot (10 - 0) + 10 \\cdot (10 - 0)$$"
      ],
      "text/plain": [
       "<IPython.core.display.Markdown object>"
      ]
     },
     "metadata": {},
     "output_type": "display_data"
    }
   ],
   "source": [
    "display(Markdown(md_f))"
   ]
  },
  {
   "cell_type": "code",
   "execution_count": 36,
   "metadata": {},
   "outputs": [
    {
     "name": "stdout",
     "output_type": "stream",
     "text": [
      "moment_y_ref = 10.0\n"
     ]
    }
   ],
   "source": [
    "moment_y_py = 10\n",
    "force_y = 10\n",
    "force_z = 10\n",
    "z_coord_p = 10\n",
    "x_coord_p = 10\n",
    "moment_y_ref = moment_x_reference(moment_y_py, force_y, force_z, z_coord_p, x_coord_p)\n",
    "print(f\"{moment_y_ref = }\")"
   ]
  },
  {
   "cell_type": "code",
   "execution_count": 37,
   "metadata": {},
   "outputs": [],
   "source": [
    "md, md_f = moment_y_reference_markdown(moment_y_py, force_y, force_z, z_coord_p, x_coord_p)"
   ]
  },
  {
   "cell_type": "code",
   "execution_count": 38,
   "metadata": {},
   "outputs": [
    {
     "data": {
      "text/markdown": [
       "$$\n",
       "    M_{yU} = M_{yP} + F_{x}\\cdot (z_{P} - z_{U}) - F_{z}\\cdot (x_{P} - x_{U})\n",
       "    $$\n",
       "\n",
       "    "
      ],
      "text/plain": [
       "<IPython.core.display.Markdown object>"
      ]
     },
     "metadata": {},
     "output_type": "display_data"
    }
   ],
   "source": [
    "display(Markdown(md))"
   ]
  },
  {
   "cell_type": "code",
   "execution_count": 39,
   "metadata": {},
   "outputs": [
    {
     "data": {
      "text/markdown": [
       "$$10.0 = 10 + 10 \\cdot (10 - 0) - 10 \\cdot (10 - 0)$$"
      ],
      "text/plain": [
       "<IPython.core.display.Markdown object>"
      ]
     },
     "metadata": {},
     "output_type": "display_data"
    }
   ],
   "source": [
    "display(Markdown(md_f))"
   ]
  },
  {
   "cell_type": "code",
   "execution_count": 40,
   "metadata": {},
   "outputs": [],
   "source": [
    "#from pylantir.pyelbe.hsb.hsb_21030_10 import moments_transformation, moments_transformation_np\n",
    "\n"
   ]
  },
  {
   "cell_type": "code",
   "execution_count": 41,
   "metadata": {},
   "outputs": [],
   "source": [
    "from collections import namedtuple\n",
    "\n",
    "\n",
    "#moments_p = namedtuple(\"moments_p\", \"moment_x moment_y moment_z\")\n",
    "moments_p = Moments(\"moment_p\",10, 10, 10)\n",
    "\n",
    "#forces_p = namedtuple(\"forces_p\", \"force_x force_y force_z\")\n",
    "forces_p = Forces(\"force_p\", 10, 10, 10)\n",
    "\n",
    "application_point = namedtuple(\"application_point\", \"x_coord y_coord z_coord\")\n",
    "application_point = application_point(10, 10, 10)\n",
    "\n",
    "reference_point = namedtuple(\"reference_point\", \"x_coord y_coord z_coord\")\n",
    "reference_point = reference_point(10, 10, 10)\n"
   ]
  },
  {
   "cell_type": "code",
   "execution_count": 42,
   "metadata": {},
   "outputs": [],
   "source": [
    "#%%timeit\n",
    "#moments_transformation(moments_p, forces_p, application_point, reference_point)"
   ]
  },
  {
   "cell_type": "code",
   "execution_count": 43,
   "metadata": {},
   "outputs": [],
   "source": [
    "#%%timeit\n",
    "#moments_transformation_np(moments_p, forces_p, application_point, reference_point)\n"
   ]
  },
  {
   "cell_type": "code",
   "execution_count": 44,
   "metadata": {},
   "outputs": [],
   "source": [
    "# point P definition\n",
    "point_p = ReferencePoint(name=\"P\", x_coord=30, y_coord=0, z_coord=0)\n",
    "\n",
    "# point U definition\n",
    "point_u = ReferencePoint(name=\"P\", x_coord=0, y_coord=0, z_coord=0)\n",
    "\n",
    "# Load definition\n",
    "# force around P\n",
    "#Forces = namedtuple(\"Forces\", \"force_x force_y force_z\")\n",
    "forces = Forces(name=\"forces\", force_x=10000, force_y=12000, force_z=-2000)\n",
    "\n",
    "# Moment around U\n",
    "moments = Moments(name=\"moments\", moment_x=-240000, moment_y=200000, moment_z=0)\n"
   ]
  },
  {
   "cell_type": "code",
   "execution_count": 45,
   "metadata": {},
   "outputs": [],
   "source": [
    "# fastener 1 definition\n",
    "# fastener_1 = Fastener(\"fast1\", \"test\", \"test\", 1, 1, 1, 1, 0, -70, 35)\n",
    "fastener_1 = Fastener(\n",
    "    name=\"fast1\",\n",
    "    specification=\"test\",\n",
    "    material=\"test\",\n",
    "    shear_allowable=18500,\n",
    "    tension_allowable=12000,\n",
    "    x_coord=0,\n",
    "    y_coord=-70,\n",
    "    z_coord=35,\n",
    ")\n",
    "\n",
    "# fastener 2 definition\n",
    "#fastener_2 = Fastener(\"fast2\", \"test\", \"test\", 1, 1, 1, 1, 0, -40, 35)\n",
    "fastener_2 = Fastener(\n",
    "    name=\"fast2\",\n",
    "    specification=\"test\",\n",
    "    material=\"test\",\n",
    "    shear_allowable=18500,\n",
    "    tension_allowable=12000,\n",
    "    x_coord=0,\n",
    "    y_coord=-40,\n",
    "    z_coord=35,\n",
    ")\n",
    "\n",
    "# fastener 3 definition\n",
    "#fastener_3 = Fastener(\"fast3\", \"test\", \"test\", 1, 1, 1, 1, 0, -40, 15)\n",
    "fastener_3 = Fastener(\n",
    "    name=\"fast3\",\n",
    "    specification=\"test\",\n",
    "    material=\"test\",\n",
    "    shear_allowable=18500,\n",
    "    tension_allowable=12000,\n",
    "    x_coord=0,\n",
    "    y_coord=-40,\n",
    "    z_coord=15,\n",
    ")\n",
    "\n",
    "# fastener 4 definition\n",
    "#fastener_4 = Fastener(\"fast4\", \"test\", \"test\", 1, 1, 1, 1, 0, -60, 15)\n",
    "fastener_4 = Fastener(\n",
    "    name=\"fast4\",\n",
    "    specification=\"test\",\n",
    "    material=\"test\",\n",
    "    shear_allowable=18500,\n",
    "    tension_allowable=12000,\n",
    "    x_coord=0,\n",
    "    y_coord=-60,\n",
    "    z_coord=15,\n",
    ")\n",
    "\n",
    "# fastener group definition\n",
    "fastener_group = FastenerGroup(\"test\", [fastener_1, fastener_2, fastener_3, fastener_4])\n"
   ]
  },
  {
   "cell_type": "code",
   "execution_count": 46,
   "metadata": {},
   "outputs": [
    {
     "data": {
      "text/html": [
       "<div>\n",
       "<style scoped>\n",
       "    .dataframe tbody tr th:only-of-type {\n",
       "        vertical-align: middle;\n",
       "    }\n",
       "\n",
       "    .dataframe tbody tr th {\n",
       "        vertical-align: top;\n",
       "    }\n",
       "\n",
       "    .dataframe thead th {\n",
       "        text-align: right;\n",
       "    }\n",
       "</style>\n",
       "<table border=\"1\" class=\"dataframe\">\n",
       "  <thead>\n",
       "    <tr style=\"text-align: right;\">\n",
       "      <th></th>\n",
       "      <th>name</th>\n",
       "      <th>specification</th>\n",
       "      <th>X</th>\n",
       "      <th>Y</th>\n",
       "      <th>Z</th>\n",
       "      <th>Shear</th>\n",
       "      <th>Tension</th>\n",
       "      <th>Material</th>\n",
       "    </tr>\n",
       "  </thead>\n",
       "  <tbody>\n",
       "    <tr>\n",
       "      <th>0</th>\n",
       "      <td>fast1</td>\n",
       "      <td>test</td>\n",
       "      <td>0</td>\n",
       "      <td>-70</td>\n",
       "      <td>35</td>\n",
       "      <td>18500</td>\n",
       "      <td>12000</td>\n",
       "      <td>test</td>\n",
       "    </tr>\n",
       "    <tr>\n",
       "      <th>1</th>\n",
       "      <td>fast2</td>\n",
       "      <td>test</td>\n",
       "      <td>0</td>\n",
       "      <td>-40</td>\n",
       "      <td>35</td>\n",
       "      <td>18500</td>\n",
       "      <td>12000</td>\n",
       "      <td>test</td>\n",
       "    </tr>\n",
       "    <tr>\n",
       "      <th>2</th>\n",
       "      <td>fast3</td>\n",
       "      <td>test</td>\n",
       "      <td>0</td>\n",
       "      <td>-40</td>\n",
       "      <td>15</td>\n",
       "      <td>18500</td>\n",
       "      <td>12000</td>\n",
       "      <td>test</td>\n",
       "    </tr>\n",
       "    <tr>\n",
       "      <th>3</th>\n",
       "      <td>fast4</td>\n",
       "      <td>test</td>\n",
       "      <td>0</td>\n",
       "      <td>-60</td>\n",
       "      <td>15</td>\n",
       "      <td>18500</td>\n",
       "      <td>12000</td>\n",
       "      <td>test</td>\n",
       "    </tr>\n",
       "  </tbody>\n",
       "</table>\n",
       "</div>"
      ],
      "text/plain": [
       "    name specification  X   Y   Z  Shear  Tension Material\n",
       "0  fast1          test  0 -70  35  18500    12000     test\n",
       "1  fast2          test  0 -40  35  18500    12000     test\n",
       "2  fast3          test  0 -40  15  18500    12000     test\n",
       "3  fast4          test  0 -60  15  18500    12000     test"
      ]
     },
     "execution_count": 46,
     "metadata": {},
     "output_type": "execute_result"
    }
   ],
   "source": [
    "fastener_group.dataframe"
   ]
  },
  {
   "cell_type": "code",
   "execution_count": 47,
   "metadata": {},
   "outputs": [
    {
     "name": "stdout",
     "output_type": "stream",
     "text": [
      "fastener 0 is in compression: -1115.3846153846134\n",
      "fastener 1 is in tension: 6615.384615384614\n",
      "fastener 2 is in tension: 4826.923076923076\n",
      "fastener 3 is in compression: -326.9230769230744\n",
      "Fasteners in compression, iterate calculation!\n"
     ]
    }
   ],
   "source": [
    "# Hsb2103001\n",
    "HSB_calc = Hsb2103001( \"test example\", fastener_group, forces, moments, point_p, point_u)"
   ]
  },
  {
   "cell_type": "code",
   "execution_count": 48,
   "metadata": {},
   "outputs": [
    {
     "data": {
      "text/html": [
       "<div>\n",
       "<style scoped>\n",
       "    .dataframe tbody tr th:only-of-type {\n",
       "        vertical-align: middle;\n",
       "    }\n",
       "\n",
       "    .dataframe tbody tr th {\n",
       "        vertical-align: top;\n",
       "    }\n",
       "\n",
       "    .dataframe thead th {\n",
       "        text-align: right;\n",
       "    }\n",
       "</style>\n",
       "<table border=\"1\" class=\"dataframe\">\n",
       "  <thead>\n",
       "    <tr style=\"text-align: right;\">\n",
       "      <th></th>\n",
       "      <th>X</th>\n",
       "      <th>Y</th>\n",
       "      <th>Shear</th>\n",
       "      <th>Tension</th>\n",
       "      <th>Fsyi</th>\n",
       "      <th>Fsz</th>\n",
       "      <th>Shear Force</th>\n",
       "      <th>Tension Force</th>\n",
       "      <th>Shear Reserve Factor</th>\n",
       "      <th>Tension Reserve Factor</th>\n",
       "    </tr>\n",
       "  </thead>\n",
       "  <tbody>\n",
       "    <tr>\n",
       "      <th>0</th>\n",
       "      <td>0</td>\n",
       "      <td>-70</td>\n",
       "      <td>18500</td>\n",
       "      <td>12000</td>\n",
       "      <td>3418.604651</td>\n",
       "      <td>232.558140</td>\n",
       "      <td>3426.505662</td>\n",
       "      <td>-1115.384615</td>\n",
       "      <td>5.39</td>\n",
       "      <td>-10.75</td>\n",
       "    </tr>\n",
       "    <tr>\n",
       "      <th>1</th>\n",
       "      <td>0</td>\n",
       "      <td>-40</td>\n",
       "      <td>18500</td>\n",
       "      <td>12000</td>\n",
       "      <td>3418.604651</td>\n",
       "      <td>-1023.255814</td>\n",
       "      <td>3568.460483</td>\n",
       "      <td>6615.384615</td>\n",
       "      <td>5.18</td>\n",
       "      <td>1.81</td>\n",
       "    </tr>\n",
       "    <tr>\n",
       "      <th>2</th>\n",
       "      <td>0</td>\n",
       "      <td>-40</td>\n",
       "      <td>18500</td>\n",
       "      <td>12000</td>\n",
       "      <td>2581.395349</td>\n",
       "      <td>-1023.255814</td>\n",
       "      <td>2776.806512</td>\n",
       "      <td>4826.923077</td>\n",
       "      <td>6.66</td>\n",
       "      <td>2.48</td>\n",
       "    </tr>\n",
       "    <tr>\n",
       "      <th>3</th>\n",
       "      <td>0</td>\n",
       "      <td>-60</td>\n",
       "      <td>18500</td>\n",
       "      <td>12000</td>\n",
       "      <td>2581.395349</td>\n",
       "      <td>-186.046512</td>\n",
       "      <td>2588.091044</td>\n",
       "      <td>-326.923077</td>\n",
       "      <td>7.14</td>\n",
       "      <td>-36.70</td>\n",
       "    </tr>\n",
       "  </tbody>\n",
       "</table>\n",
       "</div>"
      ],
      "text/plain": [
       "   X   Y  Shear  Tension         Fsyi          Fsz  Shear Force  \\\n",
       "0  0 -70  18500    12000  3418.604651   232.558140  3426.505662   \n",
       "1  0 -40  18500    12000  3418.604651 -1023.255814  3568.460483   \n",
       "2  0 -40  18500    12000  2581.395349 -1023.255814  2776.806512   \n",
       "3  0 -60  18500    12000  2581.395349  -186.046512  2588.091044   \n",
       "\n",
       "   Tension Force  Shear Reserve Factor  Tension Reserve Factor  \n",
       "0   -1115.384615                  5.39                  -10.75  \n",
       "1    6615.384615                  5.18                    1.81  \n",
       "2    4826.923077                  6.66                    2.48  \n",
       "3    -326.923077                  7.14                  -36.70  "
      ]
     },
     "execution_count": 48,
     "metadata": {},
     "output_type": "execute_result"
    }
   ],
   "source": [
    "import pandas as pd\n",
    "pd.DataFrame(HSB_calc.dataframe)"
   ]
  },
  {
   "cell_type": "code",
   "execution_count": 49,
   "metadata": {},
   "outputs": [],
   "source": [
    "from pylantir.pyelbe.hsb.hsb_21030_10 import iterate_calc\n",
    "\n"
   ]
  },
  {
   "cell_type": "code",
   "execution_count": 50,
   "metadata": {},
   "outputs": [
    {
     "name": "stdout",
     "output_type": "stream",
     "text": [
      "fastener 0 is in tension: 0.0\n",
      "fastener 1 is in tension: 6166.666666666665\n",
      "fastener 2 is in tension: 5166.666666666665\n",
      "fastener 3 is in tension: 0.0\n",
      "fastener 4 is in compression: -11338.206063613874\n",
      "Fasteners in compression, iterate calculation!\n"
     ]
    }
   ],
   "source": [
    "HSB_calc_iteration = iterate_calc(HSB_calc)"
   ]
  },
  {
   "cell_type": "code",
   "execution_count": 51,
   "metadata": {},
   "outputs": [
    {
     "data": {
      "text/plain": [
       "-69.99280172751341"
      ]
     },
     "execution_count": 51,
     "metadata": {},
     "output_type": "execute_result"
    }
   ],
   "source": [
    "HSB_calc_iteration.centroid_yta"
   ]
  },
  {
   "cell_type": "code",
   "execution_count": 52,
   "metadata": {},
   "outputs": [
    {
     "data": {
      "text/html": [
       "<div>\n",
       "<style scoped>\n",
       "    .dataframe tbody tr th:only-of-type {\n",
       "        vertical-align: middle;\n",
       "    }\n",
       "\n",
       "    .dataframe tbody tr th {\n",
       "        vertical-align: top;\n",
       "    }\n",
       "\n",
       "    .dataframe thead th {\n",
       "        text-align: right;\n",
       "    }\n",
       "</style>\n",
       "<table border=\"1\" class=\"dataframe\">\n",
       "  <thead>\n",
       "    <tr style=\"text-align: right;\">\n",
       "      <th></th>\n",
       "      <th>X</th>\n",
       "      <th>Y</th>\n",
       "      <th>Shear</th>\n",
       "      <th>Tension</th>\n",
       "      <th>Fsyi</th>\n",
       "      <th>Fsz</th>\n",
       "      <th>Shear Force</th>\n",
       "      <th>Tension Force</th>\n",
       "      <th>Shear Reserve Factor</th>\n",
       "      <th>Tension Reserve Factor</th>\n",
       "    </tr>\n",
       "  </thead>\n",
       "  <tbody>\n",
       "    <tr>\n",
       "      <th>0</th>\n",
       "      <td>0.0</td>\n",
       "      <td>-70</td>\n",
       "      <td>18500.0000</td>\n",
       "      <td>0</td>\n",
       "      <td>3418.604647</td>\n",
       "      <td>232.558139</td>\n",
       "      <td>3426.505657</td>\n",
       "      <td>0.000000</td>\n",
       "      <td>5.39</td>\n",
       "      <td>NaN</td>\n",
       "    </tr>\n",
       "    <tr>\n",
       "      <th>1</th>\n",
       "      <td>0.0</td>\n",
       "      <td>-40</td>\n",
       "      <td>18500.0000</td>\n",
       "      <td>12000</td>\n",
       "      <td>3418.604647</td>\n",
       "      <td>-1023.255814</td>\n",
       "      <td>3568.460479</td>\n",
       "      <td>6166.666667</td>\n",
       "      <td>5.18</td>\n",
       "      <td>1.94</td>\n",
       "    </tr>\n",
       "    <tr>\n",
       "      <th>2</th>\n",
       "      <td>0.0</td>\n",
       "      <td>-40</td>\n",
       "      <td>18500.0000</td>\n",
       "      <td>12000</td>\n",
       "      <td>2581.395345</td>\n",
       "      <td>-1023.255814</td>\n",
       "      <td>2776.806509</td>\n",
       "      <td>5166.666667</td>\n",
       "      <td>6.66</td>\n",
       "      <td>2.32</td>\n",
       "    </tr>\n",
       "    <tr>\n",
       "      <th>3</th>\n",
       "      <td>0.0</td>\n",
       "      <td>-60</td>\n",
       "      <td>18500.0000</td>\n",
       "      <td>0</td>\n",
       "      <td>2581.395345</td>\n",
       "      <td>-186.046512</td>\n",
       "      <td>2588.091040</td>\n",
       "      <td>0.000000</td>\n",
       "      <td>7.14</td>\n",
       "      <td>NaN</td>\n",
       "    </tr>\n",
       "    <tr>\n",
       "      <th>4</th>\n",
       "      <td>0.0</td>\n",
       "      <td>-70</td>\n",
       "      <td>0.0001</td>\n",
       "      <td>99999999</td>\n",
       "      <td>0.000016</td>\n",
       "      <td>0.000001</td>\n",
       "      <td>0.000016</td>\n",
       "      <td>-11338.206064</td>\n",
       "      <td>6.14</td>\n",
       "      <td>-1243.64</td>\n",
       "    </tr>\n",
       "  </tbody>\n",
       "</table>\n",
       "</div>"
      ],
      "text/plain": [
       "     X   Y       Shear   Tension         Fsyi          Fsz  Shear Force  \\\n",
       "0  0.0 -70  18500.0000         0  3418.604647   232.558139  3426.505657   \n",
       "1  0.0 -40  18500.0000     12000  3418.604647 -1023.255814  3568.460479   \n",
       "2  0.0 -40  18500.0000     12000  2581.395345 -1023.255814  2776.806509   \n",
       "3  0.0 -60  18500.0000         0  2581.395345  -186.046512  2588.091040   \n",
       "4  0.0 -70      0.0001  99999999     0.000016     0.000001     0.000016   \n",
       "\n",
       "   Tension Force  Shear Reserve Factor  Tension Reserve Factor  \n",
       "0       0.000000                  5.39                     NaN  \n",
       "1    6166.666667                  5.18                    1.94  \n",
       "2    5166.666667                  6.66                    2.32  \n",
       "3       0.000000                  7.14                     NaN  \n",
       "4  -11338.206064                  6.14                -1243.64  "
      ]
     },
     "execution_count": 52,
     "metadata": {},
     "output_type": "execute_result"
    }
   ],
   "source": [
    "pd.DataFrame(HSB_calc_iteration.dataframe)"
   ]
  },
  {
   "cell_type": "code",
   "execution_count": null,
   "metadata": {},
   "outputs": [],
   "source": []
  },
  {
   "cell_type": "code",
   "execution_count": 53,
   "metadata": {},
   "outputs": [
    {
     "data": {
      "text/plain": [
       "0   -1115.384615\n",
       "1    6615.384615\n",
       "2    4826.923077\n",
       "3    -326.923077\n",
       "dtype: float64"
      ]
     },
     "execution_count": 53,
     "metadata": {},
     "output_type": "execute_result"
    }
   ],
   "source": [
    "\n",
    "HSB_calc.__dict__[\"tension_forces\"]"
   ]
  },
  {
   "cell_type": "code",
   "execution_count": 54,
   "metadata": {},
   "outputs": [
    {
     "name": "stdout",
     "output_type": "stream",
     "text": [
      "name = test example\n",
      "fastener_group = FastenerGroup(name='test', fasteners=[Fastener(name='fast1', specification='test', shear_allowable=18500, tension_allowable=0, x_coord=0, y_coord=-70, z_coord=35, material='test'), Fastener(name='fast2', specification='test', shear_allowable=18500, tension_allowable=12000, x_coord=0, y_coord=-40, z_coord=35, material='test'), Fastener(name='fast3', specification='test', shear_allowable=18500, tension_allowable=12000, x_coord=0, y_coord=-40, z_coord=15, material='test'), Fastener(name='fast4', specification='test', shear_allowable=18500, tension_allowable=0, x_coord=0, y_coord=-60, z_coord=15, material='test')], fastener_names=['fast1', 'fast2', 'fast3', 'fast4'], X=array([0, 0, 0, 0]), Y=array([-70, -40, -40, -60]), shear=array([18500, 18500, 18500, 18500]), tension=array([12000, 12000, 12000, 12000]), centroid_ys=-52.5, centroid_zs=25.0, centroid_yt=-52.5, centroid_zt=25.0, dataframe=    name specification  X   Y   Z  Shear  Tension Material\n",
      "0  fast1          test  0 -70  35  18500    12000     test\n",
      "1  fast2          test  0 -40  35  18500    12000     test\n",
      "2  fast3          test  0 -40  15  18500    12000     test\n",
      "3  fast4          test  0 -60  15  18500    12000     test)\n",
      "forces = Forces(name='forces', force_x=10000, force_y=12000, force_z=-2000, namedtuple=(10000, 12000, -2000))\n",
      "moments = Moments(name='moments', moment_x=-240000, moment_y=200000, moment_z=0, namedtuple=(-240000, 200000, 0))\n",
      "application_point = ReferencePoint(name='P', x_coord=30, y_coord=0, z_coord=0, namedtuple=(30, 0, 0))\n",
      "reference_point = ReferencePoint(name='P', x_coord=0, y_coord=0, z_coord=0, namedtuple=(0, 0, 0))\n",
      "moments_u = moments_u(moment_x_u=-240000.0, moment_y_u=260000.0, moment_z_u=360000.0)\n",
      "moment_x_s = -45000.0\n",
      "moment_y_s = 10000.0\n",
      "moment_z_s = -165000.0\n",
      "alpha = -0.3143981432077165\n",
      "centroid_yta = -57.65769456919071\n",
      "centroid_zta = 7.539247771887894\n",
      "fastener_ya = [-77.39233304540556, -48.86285289002181, -42.67796945220648, -61.69762288912898]\n",
      "fastener_za = [11.637301482260739, 20.914626638983727, 1.8949732020612249, -4.2899102357541]\n",
      "moment_ya = 60535.115080437674\n",
      "moment_za = -153819.69913570295\n",
      "force_fsy = [3418.60465116 3418.60465116 2581.39534884 2581.39534884]\n",
      "force_fsz = [  232.55813953 -1023.25581395 -1023.25581395  -186.04651163]\n",
      "shear_forces = [3426.50566163 3568.46048342 2776.80651249 2588.09104389]\n",
      "force_f1 = [2500. 2500. 2500. 2500.]\n",
      "force_f2 = 0     675.070916\n",
      "1    2203.321358\n",
      "2    -929.779323\n",
      "3   -1948.612951\n",
      "dtype: float64\n",
      "force_f3 = 0    4290.455532\n",
      "1   -1912.063258\n",
      "2   -3256.702400\n",
      "3     878.310126\n",
      "dtype: float64\n",
      "tension_forces = 0   -1115.384615\n",
      "1    6615.384615\n",
      "2    4826.923077\n",
      "3    -326.923077\n",
      "dtype: float64\n",
      "reserve_factor_shear = [5.39 5.18 6.66 7.14]\n",
      "reserve_factor_tension = 0   -10.75\n",
      "1     1.81\n",
      "2     2.48\n",
      "3   -36.70\n",
      "dtype: float64\n",
      "fastener_tension = [(0, False), (1, True), (2, True), (3, False)]\n",
      "compression_update = True\n",
      "dataframe = {'X': array([0, 0, 0, 0]), 'Y': array([-70, -40, -40, -60]), 'Shear': array([18500, 18500, 18500, 18500]), 'Tension': array([12000, 12000, 12000, 12000]), 'Fsyi': array([3418.60465116, 3418.60465116, 2581.39534884, 2581.39534884]), 'Fsz': array([  232.55813953, -1023.25581395, -1023.25581395,  -186.04651163]), 'Shear Force': array([3426.50566163, 3568.46048342, 2776.80651249, 2588.09104389]), 'Tension Force': 0   -1115.384615\n",
      "1    6615.384615\n",
      "2    4826.923077\n",
      "3    -326.923077\n",
      "dtype: float64, 'Shear Reserve Factor': array([5.39, 5.18, 6.66, 7.14]), 'Tension Reserve Factor': 0   -10.75\n",
      "1     1.81\n",
      "2     2.48\n",
      "3   -36.70\n",
      "dtype: float64}\n",
      "cogs = {'application_point_x': 30, 'application_point_y': 0, 'application_point_z': 0, 'centroid_ys': -52.5, 'centroid_zs': 25.0, 'centroid_yt': -52.5, 'centroid_zt': 25.0}\n"
     ]
    }
   ],
   "source": [
    "\n",
    "for k,v in HSB_calc.__dict__.items():\n",
    "    print(f\"{k} = {v}\")"
   ]
  },
  {
   "cell_type": "markdown",
   "metadata": {},
   "source": [
    "# \"OLD\" Method "
   ]
  },
  {
   "cell_type": "code",
   "execution_count": 55,
   "metadata": {},
   "outputs": [],
   "source": [
    "import pandas as pd\n",
    "import numpy as np\n",
    "import math\n",
    "\n",
    "forces = [10000, 12000, -2000]\n",
    "moments = [-240000, 200000, 0]\n",
    "application_point = [30, 0, 0]\n",
    "rivets = pd.DataFrame(\n",
    "    {\n",
    "        \"Z\": [0, 0, 0, 0],\n",
    "        \"X\": [-70, -40, -40, -60],\n",
    "        \"Y\": [35, 35, 15, 15],\n",
    "        \"Shear\": [18500, 18500, 18500, 18500],\n",
    "        \"Tension\": [12000, 12000, 12000, 12000],\n",
    "    }  \n",
    ")\n",
    "    \n",
    "moment_mxu = (\n",
    "    moments[0] - forces[1] * application_point[2] + forces[2] * application_point[1]\n",
    ")\n",
    "moment_myu = (\n",
    "    moments[1] + forces[0] * application_point[2] - forces[2] * application_point[0]\n",
    ")\n",
    "moment_mzu = (\n",
    "    moments[2] - forces[0] * application_point[1] + forces[1] * application_point[0]\n",
    ")\n",
    "\n"
   ]
  },
  {
   "cell_type": "code",
   "execution_count": 56,
   "metadata": {},
   "outputs": [
    {
     "name": "stdout",
     "output_type": "stream",
     "text": [
      "moment_mxu = -240000 \n",
      ", HSB_calc.moments_u.moment_x_u =-240000.0, \n",
      " True\n",
      "moment_myu = 260000 \n",
      ", HSB_calc.moments_u.moment_y_u =260000.0, \n",
      " True\n",
      "moment_mzu = 360000 \n",
      ", HSB_calc.moments_u.moment_z_u =360000.0, \n",
      " True\n"
     ]
    }
   ],
   "source": [
    "print( f\"{moment_mxu = } \\n, {HSB_calc.moments_u.moment_x_u =}, \\n {moment_mxu == HSB_calc.moments_u.moment_x_u}\")\n",
    "\n",
    "print( f\"{moment_myu = } \\n, {HSB_calc.moments_u.moment_y_u =}, \\n {moment_myu == HSB_calc.moments_u.moment_y_u}\")\n",
    "\n",
    "print( f\"{moment_mzu = } \\n, {HSB_calc.moments_u.moment_z_u =}, \\n {moment_mzu == HSB_calc.moments_u.moment_z_u}\")\n",
    "\n"
   ]
  },
  {
   "cell_type": "code",
   "execution_count": 57,
   "metadata": {},
   "outputs": [],
   "source": [
    "\n",
    "cg_ys = sum(rivets.Shear * rivets.X) / sum(rivets.Shear)\n",
    "cg_zs = sum(rivets.Shear * rivets.Y) / sum(rivets.Shear)\n",
    "# Calculation for tension assuming same material of rivets. If different materials are used,\n",
    "# allowables should be scaled by ratio of young moduli\n",
    "cg_yt = sum(rivets.Tension * rivets.X) / sum(rivets.Tension)\n",
    "cg_zt = sum(rivets.Tension * rivets.Y) / sum(rivets.Tension)\n"
   ]
  },
  {
   "cell_type": "code",
   "execution_count": 58,
   "metadata": {},
   "outputs": [],
   "source": [
    "cg_ys = sum(rivets.Shear * rivets.X) / sum(rivets.Shear)"
   ]
  },
  {
   "cell_type": "code",
   "execution_count": 59,
   "metadata": {},
   "outputs": [],
   "source": [
    "\n",
    "moment_mxs = moment_mxu + forces[1] * cg_zs - forces[2] * cg_ys\n",
    "\n",
    "moment_mys = moment_myu - forces[0] * cg_zt\n",
    "moment_mzs = moment_mzu + forces[0] * cg_yt\n",
    "\n"
   ]
  },
  {
   "cell_type": "code",
   "execution_count": 60,
   "metadata": {},
   "outputs": [
    {
     "name": "stdout",
     "output_type": "stream",
     "text": [
      "cg_ys = -52.5 \n",
      ", HSB_calc.fastener_group.centroid_ys =-52.5, \n",
      " True\n",
      "cg_zs = 25.0 \n",
      ", HSB_calc.fastener_group.centroid_zs =25.0, \n",
      " True\n",
      "cg_yt = -52.5 \n",
      ", HSB_calc.fastener_group.centroid_yt =-52.5, \n",
      " True\n",
      "cg_zt = 25.0 \n",
      ", HSB_calc.fastener_group.centroid_zt =25.0, \n",
      " True\n",
      "moment_mxs = -45000.0 \n",
      ", HSB_calc.moment_x_s =-45000.0, \n",
      " True\n",
      "moment_mys = 10000.0 \n",
      ", HSB_calc.moment_y_s =10000.0, \n",
      " True\n",
      "moment_mzs = -165000.0 \n",
      ", HSB_calc.moment_z_s =-165000.0, \n",
      " True\n"
     ]
    }
   ],
   "source": [
    "print(f\"{cg_ys = } \\n, {HSB_calc.fastener_group.centroid_ys =}, \\n {cg_ys == HSB_calc.fastener_group.centroid_ys}\")\n",
    "print(f\"{cg_zs = } \\n, {HSB_calc.fastener_group.centroid_zs =}, \\n {cg_zs == HSB_calc.fastener_group.centroid_zs}\")\n",
    "\n",
    "print(f\"{cg_yt = } \\n, {HSB_calc.fastener_group.centroid_yt =}, \\n {cg_yt == HSB_calc.fastener_group.centroid_yt}\")\n",
    "print(f\"{cg_zt = } \\n, {HSB_calc.fastener_group.centroid_zt =}, \\n {cg_zt == HSB_calc.fastener_group.centroid_zt}\")\n",
    "\n",
    "print(f\"{moment_mxs = } \\n, {HSB_calc.moment_x_s =}, \\n {moment_mxs == HSB_calc.moment_x_s}\")\n",
    "print(f\"{moment_mys = } \\n, {HSB_calc.moment_y_s =}, \\n {moment_mys == HSB_calc.moment_y_s}\")\n",
    "print(f\"{moment_mzs = } \\n, {HSB_calc.moment_z_s =}, \\n {moment_mzs == HSB_calc.moment_z_s}\")"
   ]
  },
  {
   "cell_type": "code",
   "execution_count": 61,
   "metadata": {},
   "outputs": [],
   "source": [
    "alpha = (\n",
    "    math.atan(\n",
    "        2\n",
    "        * sum(rivets.Tension * (rivets.X - cg_yt) * (rivets.Y - cg_zt))\n",
    "        / (\n",
    "            sum(rivets.Tension * (rivets.X - cg_yt) ** 2)\n",
    "            - sum(rivets.Tension * (rivets.Y - cg_zt) ** 2)\n",
    "        )\n",
    "    )\n",
    "    / 2\n",
    ")\n"
   ]
  },
  {
   "cell_type": "code",
   "execution_count": 62,
   "metadata": {},
   "outputs": [
    {
     "name": "stdout",
     "output_type": "stream",
     "text": [
      "alpha = -0.3143981432077165 \n",
      ", HSB_calc.alpha =-0.3143981432077165, \n",
      " True\n"
     ]
    }
   ],
   "source": [
    "print(f\"{alpha = } \\n, {HSB_calc.alpha =}, \\n {alpha == HSB_calc.alpha}\")"
   ]
  },
  {
   "cell_type": "code",
   "execution_count": 63,
   "metadata": {},
   "outputs": [],
   "source": [
    "coord_yta = cg_yt * math.cos(alpha) + cg_zt * math.sin(alpha)\n",
    "coord_zta = -cg_yt * math.sin(alpha) + cg_zt * math.cos(alpha)\n",
    "coord_ya = rivets.X * math.cos(alpha) + rivets.Y * math.sin(alpha)\n",
    "coord_za = -rivets.X * math.sin(alpha) + rivets.Y * math.cos(alpha)\n",
    "moment_mysa = moment_mys * math.cos(alpha) + moment_mzs * math.sin(alpha)\n",
    "moment_mzsa = -moment_mys * math.sin(alpha) + moment_mzs * math.cos(alpha)\n",
    "\n"
   ]
  },
  {
   "cell_type": "code",
   "execution_count": 64,
   "metadata": {},
   "outputs": [
    {
     "name": "stdout",
     "output_type": "stream",
     "text": [
      "coord_yta = -57.65769456919071 \n",
      ", HSB_calc.centroid_yta =-57.65769456919071, \n",
      " True\n",
      "coord_zta = 7.539247771887894 \n",
      ", HSB_calc.centroid_zta =7.539247771887894, \n",
      " True\n",
      "coord_ya = 0   -77.392333\n",
      "1   -48.862853\n",
      "2   -42.677969\n",
      "3   -61.697623\n",
      "dtype: float64 \n",
      ", HSB_calc.fastener_ya =[-77.39233304540556, -48.86285289002181, -42.67796945220648, -61.69762288912898], \n",
      " 0    True\n",
      "1    True\n",
      "2    True\n",
      "3    True\n",
      "dtype: bool\n"
     ]
    }
   ],
   "source": [
    "print(f\"{coord_yta = } \\n, {HSB_calc.centroid_yta =}, \\n {coord_yta == HSB_calc.centroid_yta}\")\n",
    "print(f\"{coord_zta = } \\n, {HSB_calc.centroid_zta =}, \\n {coord_zta == HSB_calc.centroid_zta}\")\n",
    "print(f\"{coord_ya = } \\n, {HSB_calc.fastener_ya =}, \\n {coord_ya == HSB_calc.fastener_ya}\")\n"
   ]
  },
  {
   "cell_type": "code",
   "execution_count": 65,
   "metadata": {},
   "outputs": [
    {
     "name": "stdout",
     "output_type": "stream",
     "text": [
      "forces[1] = 12000 \n",
      ", HSB_calc.forces.force_y =12000, \n",
      " True\n",
      "moment_mxs = -45000.0 \n",
      ", HSB_calc.moment_x_s =-45000.0, \n",
      " True\n",
      "moment_mysa = 60535.115080437674 \n",
      ", HSB_calc.moment_ya =60535.115080437674, \n",
      " True\n"
     ]
    }
   ],
   "source": [
    "print(f\"{forces[1] = } \\n, {HSB_calc.forces.force_y =}, \\n {forces[1] == HSB_calc.forces.force_y}\")\n",
    "print(f\"{moment_mxs = } \\n, {HSB_calc.moment_x_s =}, \\n {moment_mxs == HSB_calc.moment_x_s}\")\n",
    "print(f\"{moment_mysa = } \\n, {HSB_calc.moment_ya =}, \\n {moment_mysa == HSB_calc.moment_ya}\")\n"
   ]
  },
  {
   "cell_type": "code",
   "execution_count": 66,
   "metadata": {},
   "outputs": [
    {
     "name": "stdout",
     "output_type": "stream",
     "text": [
      "rivets.Shear = 0    18500\n",
      "1    18500\n",
      "2    18500\n",
      "3    18500\n",
      "Name: Shear, dtype: int64 \n",
      ", HSB_calc.fastener_group.shear =array([18500, 18500, 18500, 18500]), \n",
      " 0    True\n",
      "1    True\n",
      "2    True\n",
      "3    True\n",
      "Name: Shear, dtype: bool\n"
     ]
    }
   ],
   "source": [
    "print(f\"{rivets.Shear = } \\n, {HSB_calc.fastener_group.shear =}, \\n {rivets.Shear == HSB_calc.fastener_group.shear}\")\n"
   ]
  },
  {
   "cell_type": "code",
   "execution_count": 67,
   "metadata": {},
   "outputs": [
    {
     "name": "stdout",
     "output_type": "stream",
     "text": [
      "rivets.Z = 0    0\n",
      "1    0\n",
      "2    0\n",
      "3    0\n",
      "Name: Z, dtype: int64 \n",
      ", HSB_calc.fastener_group.X =array([0, 0, 0, 0]), \n",
      " 0    True\n",
      "1    True\n",
      "2    True\n",
      "3    True\n",
      "Name: Z, dtype: bool\n"
     ]
    }
   ],
   "source": [
    "print(f\"{rivets.Z = } \\n, {HSB_calc.fastener_group.x_array =}, \\n {rivets.Z == HSB_calc.fastener_group.x_array}\")\n"
   ]
  },
  {
   "cell_type": "code",
   "execution_count": 68,
   "metadata": {},
   "outputs": [
    {
     "name": "stdout",
     "output_type": "stream",
     "text": [
      "rivets.X = 0   -70\n",
      "1   -40\n",
      "2   -40\n",
      "3   -60\n",
      "Name: X, dtype: int64 \n",
      ", HSB_calc.fastener_group.Y =array([-70, -40, -40, -60]), \n",
      " 0    True\n",
      "1    True\n",
      "2    True\n",
      "3    True\n",
      "Name: X, dtype: bool\n"
     ]
    }
   ],
   "source": [
    "print(f\"{rivets.X = } \\n, {HSB_calc.fastener_group.Y =}, \\n {rivets.X == HSB_calc.fastener_group.Y}\")\n"
   ]
  },
  {
   "cell_type": "code",
   "execution_count": 69,
   "metadata": {},
   "outputs": [],
   "source": [
    "#print(f\"{rivets.Y = } \\n, {HSB_calc.fastener_group.Z =}, \\n {rivets.Y == HSB_calc.fastener_group.Z}\")"
   ]
  },
  {
   "cell_type": "code",
   "execution_count": 70,
   "metadata": {},
   "outputs": [
    {
     "name": "stdout",
     "output_type": "stream",
     "text": [
      "cg_ys = -52.5 \n",
      ", HSB_calc.fastener_group.centroid_ys =-52.5, \n",
      " True\n",
      "cg_zs = 25.0 \n",
      ", HSB_calc.fastener_group.centroid_zs =25.0, \n",
      " True\n"
     ]
    }
   ],
   "source": [
    "print(f\"{cg_ys = } \\n, {HSB_calc.fastener_group.centroid_ys =}, \\n {cg_ys == HSB_calc.fastener_group.centroid_ys}\")\n",
    "print(f\"{cg_zs = } \\n, {HSB_calc.fastener_group.centroid_zs =}, \\n {cg_zs == HSB_calc.fastener_group.centroid_zs}\")"
   ]
  },
  {
   "cell_type": "code",
   "execution_count": 71,
   "metadata": {},
   "outputs": [],
   "source": [
    "force_fsy = forces[1] * rivets.Shear / sum(rivets.Shear) - moment_mxs * (\n",
    "    rivets.Shear * (rivets.Y - cg_zs)\n",
    ") / sum(rivets.Shear * ((rivets.X - cg_ys) ** 2 + (rivets.Y - cg_zs) ** 2))\n"
   ]
  },
  {
   "cell_type": "code",
   "execution_count": 72,
   "metadata": {},
   "outputs": [
    {
     "name": "stdout",
     "output_type": "stream",
     "text": [
      "force_fsy = 0    3418.604651\n",
      "1    3418.604651\n",
      "2    2581.395349\n",
      "3    2581.395349\n",
      "dtype: float64 \n",
      ", HSB_calc.force_fsy =array([3418.60465116, 3418.60465116, 2581.39534884, 2581.39534884]), \n",
      " 0    True\n",
      "1    True\n",
      "2    True\n",
      "3    True\n",
      "dtype: bool\n"
     ]
    }
   ],
   "source": [
    "print(f\"{force_fsy = } \\n, {HSB_calc.force_fsy =}, \\n {force_fsy == HSB_calc.force_fsy}\")\n"
   ]
  },
  {
   "cell_type": "code",
   "execution_count": 73,
   "metadata": {},
   "outputs": [],
   "source": [
    "force_fsz = forces[2] * rivets.Shear / sum(rivets.Shear) + moment_mxs * (\n",
    "    rivets.Shear * (rivets.X - cg_ys)\n",
    ") / sum(rivets.Shear * ((rivets.X - cg_ys) ** 2 + (rivets.Y - cg_zs) ** 2))\n",
    "\n",
    "\n",
    "force_fs = np.sqrt(force_fsy**2 + force_fsz**2)\n",
    "\n"
   ]
  },
  {
   "cell_type": "code",
   "execution_count": 74,
   "metadata": {},
   "outputs": [
    {
     "name": "stdout",
     "output_type": "stream",
     "text": [
      "force_fsz = 0     232.558140\n",
      "1   -1023.255814\n",
      "2   -1023.255814\n",
      "3    -186.046512\n",
      "dtype: float64 \n",
      ", HSB_calc.force_fsz =array([  232.55813953, -1023.25581395, -1023.25581395,  -186.04651163]), \n",
      " 0    True\n",
      "1    True\n",
      "2    True\n",
      "3    True\n",
      "dtype: bool\n",
      "force_fs = 0    3426.505662\n",
      "1    3568.460483\n",
      "2    2776.806512\n",
      "3    2588.091044\n",
      "dtype: float64 \n",
      ", HSB_calc.shear_forces =array([3426.50566163, 3568.46048342, 2776.80651249, 2588.09104389]), \n",
      " 0    True\n",
      "1    True\n",
      "2    True\n",
      "3    True\n",
      "dtype: bool\n"
     ]
    }
   ],
   "source": [
    "print(f\"{force_fsz = } \\n, {HSB_calc.force_fsz =}, \\n {force_fsz == HSB_calc.force_fsz}\")\n",
    "print(f\"{force_fs = } \\n, {HSB_calc.shear_forces =}, \\n {force_fs == HSB_calc.shear_forces}\")"
   ]
  },
  {
   "cell_type": "code",
   "execution_count": 75,
   "metadata": {},
   "outputs": [],
   "source": [
    "force_f1 = forces[0] * rivets.Tension / sum(rivets.Tension)\n",
    "\n"
   ]
  },
  {
   "cell_type": "code",
   "execution_count": 76,
   "metadata": {},
   "outputs": [
    {
     "name": "stdout",
     "output_type": "stream",
     "text": [
      "force_f1 = 0    2500.0\n",
      "1    2500.0\n",
      "2    2500.0\n",
      "3    2500.0\n",
      "Name: Tension, dtype: float64 \n",
      ", HSB_calc.force_f1 =array([2500., 2500., 2500., 2500.]), \n",
      " 0    True\n",
      "1    True\n",
      "2    True\n",
      "3    True\n",
      "Name: Tension, dtype: bool\n"
     ]
    }
   ],
   "source": [
    "print(f\"{force_f1 = } \\n, {HSB_calc.force_f1 =}, \\n {force_f1 == HSB_calc.force_f1}\")"
   ]
  },
  {
   "cell_type": "code",
   "execution_count": 77,
   "metadata": {},
   "outputs": [],
   "source": [
    "force_f2 = (\n",
    "    moment_mysa\n",
    "    * (rivets.Tension * (coord_za - coord_zta))\n",
    "    / sum(rivets.Tension * (coord_za - coord_zta) ** 2)\n",
    ")\n"
   ]
  },
  {
   "cell_type": "code",
   "execution_count": 78,
   "metadata": {},
   "outputs": [
    {
     "name": "stdout",
     "output_type": "stream",
     "text": [
      "force_f1 = 0    2500.0\n",
      "1    2500.0\n",
      "2    2500.0\n",
      "3    2500.0\n",
      "Name: Tension, dtype: float64 \n",
      ", HSB_calc.force_f1 =array([2500., 2500., 2500., 2500.]), \n",
      " 0    True\n",
      "1    True\n",
      "2    True\n",
      "3    True\n",
      "Name: Tension, dtype: bool\n"
     ]
    }
   ],
   "source": [
    "print(f\"{force_f1 = } \\n, {HSB_calc.force_f1 =}, \\n {force_f1 == HSB_calc.force_f1}\")"
   ]
  },
  {
   "cell_type": "code",
   "execution_count": 79,
   "metadata": {},
   "outputs": [],
   "source": [
    "force_f3 = (\n",
    "    moment_mzsa\n",
    "    * (rivets.Tension * (coord_ya - coord_yta))\n",
    "    / sum(rivets.Tension * (coord_ya - coord_yta) ** 2)\n",
    ")\n"
   ]
  },
  {
   "cell_type": "code",
   "execution_count": 80,
   "metadata": {},
   "outputs": [
    {
     "name": "stdout",
     "output_type": "stream",
     "text": [
      "force_f3 = 0    4290.455532\n",
      "1   -1912.063258\n",
      "2   -3256.702400\n",
      "3     878.310126\n",
      "dtype: float64 \n",
      ", HSB_calc.force_f3 =0    4290.455532\n",
      "1   -1912.063258\n",
      "2   -3256.702400\n",
      "3     878.310126\n",
      "dtype: float64, \n",
      " 0    True\n",
      "1    True\n",
      "2    True\n",
      "3    True\n",
      "dtype: bool\n"
     ]
    }
   ],
   "source": [
    "print(f\"{force_f3 = } \\n, {HSB_calc.force_f3 =}, \\n {force_f3 == HSB_calc.force_f3}\")"
   ]
  },
  {
   "cell_type": "code",
   "execution_count": 81,
   "metadata": {},
   "outputs": [],
   "source": [
    "\n",
    "force_ft = force_f1 + force_f2 - force_f3\n"
   ]
  },
  {
   "cell_type": "code",
   "execution_count": 82,
   "metadata": {},
   "outputs": [
    {
     "name": "stdout",
     "output_type": "stream",
     "text": [
      "force_ft = 0   -1115.384615\n",
      "1    6615.384615\n",
      "2    4826.923077\n",
      "3    -326.923077\n",
      "dtype: float64 \n",
      ", HSB_calc.tension_forces =0   -1115.384615\n",
      "1    6615.384615\n",
      "2    4826.923077\n",
      "3    -326.923077\n",
      "dtype: float64, \n",
      " 0    True\n",
      "1    True\n",
      "2    True\n",
      "3    True\n",
      "dtype: bool\n"
     ]
    }
   ],
   "source": [
    "print(f\"{force_ft = } \\n, {HSB_calc.tension_forces =}, \\n {force_ft == HSB_calc.tension_forces}\")"
   ]
  },
  {
   "cell_type": "code",
   "execution_count": 83,
   "metadata": {},
   "outputs": [],
   "source": [
    "\n",
    "shear_reserve_factor = np.trunc(100 * rivets.Shear / force_fs) / 100\n",
    "tension_reserve_factor = np.trunc(100 * rivets.Tension / force_ft) / 100\n"
   ]
  },
  {
   "cell_type": "code",
   "execution_count": 84,
   "metadata": {},
   "outputs": [
    {
     "name": "stdout",
     "output_type": "stream",
     "text": [
      "shear_reserve_factor = 0    5.39\n",
      "1    5.18\n",
      "2    6.66\n",
      "3    7.14\n",
      "dtype: float64 \n",
      ", HSB_calc.reserve_factor_shear =array([5.39, 5.18, 6.66, 7.14]), \n",
      " 0    True\n",
      "1    True\n",
      "2    True\n",
      "3    True\n",
      "dtype: bool\n",
      "tension_reserve_factor = 0   -10.75\n",
      "1     1.81\n",
      "2     2.48\n",
      "3   -36.70\n",
      "dtype: float64 \n",
      ", HSB_calc.reserve_factor_tension =0   -10.75\n",
      "1     1.81\n",
      "2     2.48\n",
      "3   -36.70\n",
      "dtype: float64, \n",
      " 0    True\n",
      "1    True\n",
      "2    True\n",
      "3    True\n",
      "dtype: bool\n"
     ]
    }
   ],
   "source": [
    "print(f\"{shear_reserve_factor = } \\n, {HSB_calc.reserve_factor_shear =}, \\n {shear_reserve_factor == HSB_calc.reserve_factor_shear}\")\n",
    "print(f\"{tension_reserve_factor = } \\n, {HSB_calc.reserve_factor_tension =}, \\n {tension_reserve_factor == HSB_calc.reserve_factor_tension}\")"
   ]
  },
  {
   "cell_type": "code",
   "execution_count": 85,
   "metadata": {},
   "outputs": [],
   "source": [
    "# expanding the rivet input DF with results\n",
    "res = rivets.copy()\n",
    "res.insert(4, \"Fsy\", force_fsy)\n",
    "res.insert(5, \"Fsz\", force_fsz)\n",
    "res.insert(6, \"Fs\", force_fs)\n",
    "res.insert(7, \"Ft\", force_ft)\n",
    "res.insert(8, \"RFs\", shear_reserve_factor)\n",
    "res.insert(9, \"RFt\", tension_reserve_factor)\n",
    "#res = res.astype({\"Fsy\": \"int64\", \"Fsz\": \"int64\", \"Fs\": \"int64\", \"Ft\": \"int64\"})\n",
    "# creating a matrix with the CG information for further use in other functions\n",
    "centers_of_gravity = [\n",
    "    application_point[1],\n",
    "    application_point[2],\n",
    "    cg_ys,\n",
    "    cg_zs,\n",
    "    cg_yt,\n",
    "    cg_zt,\n",
    "]"
   ]
  },
  {
   "cell_type": "code",
   "execution_count": 86,
   "metadata": {},
   "outputs": [
    {
     "data": {
      "text/html": [
       "<div>\n",
       "<style scoped>\n",
       "    .dataframe tbody tr th:only-of-type {\n",
       "        vertical-align: middle;\n",
       "    }\n",
       "\n",
       "    .dataframe tbody tr th {\n",
       "        vertical-align: top;\n",
       "    }\n",
       "\n",
       "    .dataframe thead th {\n",
       "        text-align: right;\n",
       "    }\n",
       "</style>\n",
       "<table border=\"1\" class=\"dataframe\">\n",
       "  <thead>\n",
       "    <tr style=\"text-align: right;\">\n",
       "      <th></th>\n",
       "      <th>Z</th>\n",
       "      <th>X</th>\n",
       "      <th>Y</th>\n",
       "      <th>Shear</th>\n",
       "      <th>Fsy</th>\n",
       "      <th>Fsz</th>\n",
       "      <th>Fs</th>\n",
       "      <th>Ft</th>\n",
       "      <th>RFs</th>\n",
       "      <th>RFt</th>\n",
       "      <th>Tension</th>\n",
       "    </tr>\n",
       "  </thead>\n",
       "  <tbody>\n",
       "    <tr>\n",
       "      <th>0</th>\n",
       "      <td>0</td>\n",
       "      <td>-70</td>\n",
       "      <td>35</td>\n",
       "      <td>18500</td>\n",
       "      <td>3418.604651</td>\n",
       "      <td>232.558140</td>\n",
       "      <td>3426.505662</td>\n",
       "      <td>-1115.384615</td>\n",
       "      <td>5.39</td>\n",
       "      <td>-10.75</td>\n",
       "      <td>12000</td>\n",
       "    </tr>\n",
       "    <tr>\n",
       "      <th>1</th>\n",
       "      <td>0</td>\n",
       "      <td>-40</td>\n",
       "      <td>35</td>\n",
       "      <td>18500</td>\n",
       "      <td>3418.604651</td>\n",
       "      <td>-1023.255814</td>\n",
       "      <td>3568.460483</td>\n",
       "      <td>6615.384615</td>\n",
       "      <td>5.18</td>\n",
       "      <td>1.81</td>\n",
       "      <td>12000</td>\n",
       "    </tr>\n",
       "    <tr>\n",
       "      <th>2</th>\n",
       "      <td>0</td>\n",
       "      <td>-40</td>\n",
       "      <td>15</td>\n",
       "      <td>18500</td>\n",
       "      <td>2581.395349</td>\n",
       "      <td>-1023.255814</td>\n",
       "      <td>2776.806512</td>\n",
       "      <td>4826.923077</td>\n",
       "      <td>6.66</td>\n",
       "      <td>2.48</td>\n",
       "      <td>12000</td>\n",
       "    </tr>\n",
       "    <tr>\n",
       "      <th>3</th>\n",
       "      <td>0</td>\n",
       "      <td>-60</td>\n",
       "      <td>15</td>\n",
       "      <td>18500</td>\n",
       "      <td>2581.395349</td>\n",
       "      <td>-186.046512</td>\n",
       "      <td>2588.091044</td>\n",
       "      <td>-326.923077</td>\n",
       "      <td>7.14</td>\n",
       "      <td>-36.70</td>\n",
       "      <td>12000</td>\n",
       "    </tr>\n",
       "  </tbody>\n",
       "</table>\n",
       "</div>"
      ],
      "text/plain": [
       "   Z   X   Y  Shear          Fsy          Fsz           Fs           Ft   RFs  \\\n",
       "0  0 -70  35  18500  3418.604651   232.558140  3426.505662 -1115.384615  5.39   \n",
       "1  0 -40  35  18500  3418.604651 -1023.255814  3568.460483  6615.384615  5.18   \n",
       "2  0 -40  15  18500  2581.395349 -1023.255814  2776.806512  4826.923077  6.66   \n",
       "3  0 -60  15  18500  2581.395349  -186.046512  2588.091044  -326.923077  7.14   \n",
       "\n",
       "     RFt  Tension  \n",
       "0 -10.75    12000  \n",
       "1   1.81    12000  \n",
       "2   2.48    12000  \n",
       "3 -36.70    12000  "
      ]
     },
     "execution_count": 86,
     "metadata": {},
     "output_type": "execute_result"
    }
   ],
   "source": [
    "res"
   ]
  },
  {
   "cell_type": "code",
   "execution_count": 87,
   "metadata": {},
   "outputs": [
    {
     "data": {
      "text/html": [
       "<div>\n",
       "<style scoped>\n",
       "    .dataframe tbody tr th:only-of-type {\n",
       "        vertical-align: middle;\n",
       "    }\n",
       "\n",
       "    .dataframe tbody tr th {\n",
       "        vertical-align: top;\n",
       "    }\n",
       "\n",
       "    .dataframe thead th {\n",
       "        text-align: right;\n",
       "    }\n",
       "</style>\n",
       "<table border=\"1\" class=\"dataframe\">\n",
       "  <thead>\n",
       "    <tr style=\"text-align: right;\">\n",
       "      <th></th>\n",
       "      <th>X</th>\n",
       "      <th>Y</th>\n",
       "      <th>Shear</th>\n",
       "      <th>Tension</th>\n",
       "      <th>Fsyi</th>\n",
       "      <th>Fsz</th>\n",
       "      <th>Shear Force</th>\n",
       "      <th>Tension Force</th>\n",
       "      <th>Shear Reserve Factor</th>\n",
       "      <th>Tension Reserve Factor</th>\n",
       "    </tr>\n",
       "  </thead>\n",
       "  <tbody>\n",
       "    <tr>\n",
       "      <th>0</th>\n",
       "      <td>0</td>\n",
       "      <td>-70</td>\n",
       "      <td>18500</td>\n",
       "      <td>12000</td>\n",
       "      <td>3418.604651</td>\n",
       "      <td>232.558140</td>\n",
       "      <td>3426.505662</td>\n",
       "      <td>-1115.384615</td>\n",
       "      <td>5.39</td>\n",
       "      <td>-10.75</td>\n",
       "    </tr>\n",
       "    <tr>\n",
       "      <th>1</th>\n",
       "      <td>0</td>\n",
       "      <td>-40</td>\n",
       "      <td>18500</td>\n",
       "      <td>12000</td>\n",
       "      <td>3418.604651</td>\n",
       "      <td>-1023.255814</td>\n",
       "      <td>3568.460483</td>\n",
       "      <td>6615.384615</td>\n",
       "      <td>5.18</td>\n",
       "      <td>1.81</td>\n",
       "    </tr>\n",
       "    <tr>\n",
       "      <th>2</th>\n",
       "      <td>0</td>\n",
       "      <td>-40</td>\n",
       "      <td>18500</td>\n",
       "      <td>12000</td>\n",
       "      <td>2581.395349</td>\n",
       "      <td>-1023.255814</td>\n",
       "      <td>2776.806512</td>\n",
       "      <td>4826.923077</td>\n",
       "      <td>6.66</td>\n",
       "      <td>2.48</td>\n",
       "    </tr>\n",
       "    <tr>\n",
       "      <th>3</th>\n",
       "      <td>0</td>\n",
       "      <td>-60</td>\n",
       "      <td>18500</td>\n",
       "      <td>12000</td>\n",
       "      <td>2581.395349</td>\n",
       "      <td>-186.046512</td>\n",
       "      <td>2588.091044</td>\n",
       "      <td>-326.923077</td>\n",
       "      <td>7.14</td>\n",
       "      <td>-36.70</td>\n",
       "    </tr>\n",
       "  </tbody>\n",
       "</table>\n",
       "</div>"
      ],
      "text/plain": [
       "   X   Y  Shear  Tension         Fsyi          Fsz  Shear Force  \\\n",
       "0  0 -70  18500    12000  3418.604651   232.558140  3426.505662   \n",
       "1  0 -40  18500    12000  3418.604651 -1023.255814  3568.460483   \n",
       "2  0 -40  18500    12000  2581.395349 -1023.255814  2776.806512   \n",
       "3  0 -60  18500    12000  2581.395349  -186.046512  2588.091044   \n",
       "\n",
       "   Tension Force  Shear Reserve Factor  Tension Reserve Factor  \n",
       "0   -1115.384615                  5.39                  -10.75  \n",
       "1    6615.384615                  5.18                    1.81  \n",
       "2    4826.923077                  6.66                    2.48  \n",
       "3    -326.923077                  7.14                  -36.70  "
      ]
     },
     "execution_count": 87,
     "metadata": {},
     "output_type": "execute_result"
    }
   ],
   "source": [
    "pd.DataFrame(HSB_calc.dataframe)"
   ]
  },
  {
   "cell_type": "code",
   "execution_count": null,
   "metadata": {},
   "outputs": [],
   "source": []
  }
 ],
 "metadata": {
  "kernelspec": {
   "display_name": "Python 3.9.7 ('pagtools')",
   "language": "python",
   "name": "python3"
  },
  "language_info": {
   "codemirror_mode": {
    "name": "ipython",
    "version": 3
   },
   "file_extension": ".py",
   "mimetype": "text/x-python",
   "name": "python",
   "nbconvert_exporter": "python",
   "pygments_lexer": "ipython3",
   "version": "3.9.7"
  },
  "orig_nbformat": 4,
  "vscode": {
   "interpreter": {
    "hash": "b707436c64063d0597a34f5110470eed9495c60de866f818160afe7fb2faf969"
   }
  }
 },
 "nbformat": 4,
 "nbformat_minor": 2
}
