{
 "cells": [
  {
   "cell_type": "code",
   "execution_count": 1,
   "metadata": {},
   "outputs": [],
   "source": [
    "import sys\n",
    "sys.path.append('..')"
   ]
  },
  {
   "cell_type": "markdown",
   "metadata": {},
   "source": [
    "# HSB 21030-10\n"
   ]
  },
  {
   "cell_type": "markdown",
   "metadata": {},
   "source": [
    "test\n"
   ]
  },
  {
   "cell_type": "markdown",
   "metadata": {},
   "source": []
  },
  {
   "cell_type": "code",
   "execution_count": 2,
   "metadata": {},
   "outputs": [],
   "source": [
    "from src.pyelbe.hsb.hsb_21030_10 import moment_x_reference, moment_x_reference_markdown\n"
   ]
  },
  {
   "cell_type": "code",
   "execution_count": 3,
   "metadata": {},
   "outputs": [
    {
     "name": "stdout",
     "output_type": "stream",
     "text": [
      "\n",
      "    Calculates the moment of the force about the point of application in the x direction.\n",
      "    args:\n",
      "        m_moment_x_px_p(float): moment of the force\n",
      "                                about the point of application in the x direction\n",
      "        force_y(float): force in the y direction\n",
      "        force_z(float): force in the z direction\n",
      "        z_coord_p(float): z coordinate of the point of application of the force\n",
      "        y_coord_p(float): y coordinate of the point of application of the force\n",
      "    returns:\n",
      "        moment_mxu(float): moment of the force about the point of application in the x direction\n",
      "    \n"
     ]
    }
   ],
   "source": [
    "print(moment_x_reference.__doc__)"
   ]
  },
  {
   "cell_type": "code",
   "execution_count": 4,
   "metadata": {},
   "outputs": [
    {
     "name": "stdout",
     "output_type": "stream",
     "text": [
      "moment_x_ref = 10.0\n"
     ]
    }
   ],
   "source": [
    "m_moment_x_px_p = 10\n",
    "force_y = 10\n",
    "force_z = 10\n",
    "z_coord_p = 10\n",
    "y_coord_p = 10\n",
    "moment_x_ref = moment_x_reference(m_moment_x_px_p, force_y, force_z, z_coord_p, y_coord_p)\n",
    "print(f\"{moment_x_ref = }\")"
   ]
  },
  {
   "cell_type": "code",
   "execution_count": 5,
   "metadata": {},
   "outputs": [],
   "source": [
    "# show latex from string\n",
    "from IPython.display import display, Markdown\n",
    "\n"
   ]
  },
  {
   "cell_type": "code",
   "execution_count": 6,
   "metadata": {},
   "outputs": [],
   "source": [
    "md, md_f = moment_x_reference_markdown(m_moment_x_px_p, force_y, force_z, z_coord_p, y_coord_p)"
   ]
  },
  {
   "cell_type": "code",
   "execution_count": 7,
   "metadata": {},
   "outputs": [
    {
     "data": {
      "text/markdown": [
       "$$\n",
       "    M_{xU} = M_{xP} - F_{y}\\cdot z_{P} + F_{z}\\cdot y_{P}\n",
       "    $$\n",
       "    "
      ],
      "text/plain": [
       "<IPython.core.display.Markdown object>"
      ]
     },
     "metadata": {},
     "output_type": "display_data"
    }
   ],
   "source": [
    "display(Markdown(md))"
   ]
  },
  {
   "cell_type": "code",
   "execution_count": 8,
   "metadata": {},
   "outputs": [
    {
     "data": {
      "text/markdown": [
       "$$10.0 = 10 - 10 \\cdot 10 + 10 \\cdot 10$$"
      ],
      "text/plain": [
       "<IPython.core.display.Markdown object>"
      ]
     },
     "metadata": {},
     "output_type": "display_data"
    }
   ],
   "source": [
    "display(Markdown(md_f))"
   ]
  },
  {
   "cell_type": "code",
   "execution_count": null,
   "metadata": {},
   "outputs": [],
   "source": []
  }
 ],
 "metadata": {
  "kernelspec": {
   "display_name": "Python 3.9.7 ('pagtools')",
   "language": "python",
   "name": "python3"
  },
  "language_info": {
   "codemirror_mode": {
    "name": "ipython",
    "version": 3
   },
   "file_extension": ".py",
   "mimetype": "text/x-python",
   "name": "python",
   "nbconvert_exporter": "python",
   "pygments_lexer": "ipython3",
   "version": "3.9.7"
  },
  "orig_nbformat": 4,
  "vscode": {
   "interpreter": {
    "hash": "b707436c64063d0597a34f5110470eed9495c60de866f818160afe7fb2faf969"
   }
  }
 },
 "nbformat": 4,
 "nbformat_minor": 2
}
